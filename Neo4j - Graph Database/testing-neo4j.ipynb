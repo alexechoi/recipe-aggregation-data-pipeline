{
 "cells": [
  {
   "cell_type": "markdown",
   "metadata": {},
   "source": [
    "# Transform MySQL to Neo4j"
   ]
  },
  {
   "cell_type": "code",
   "execution_count": 1,
   "metadata": {},
   "outputs": [
    {
     "name": "stderr",
     "output_type": "stream",
     "text": [
      "[nltk_data] Downloading package omw-1.4 to /home/faculty/nltk_data...\n",
      "[nltk_data]   Package omw-1.4 is already up-to-date!\n",
      "[nltk_data] Downloading package punkt to /home/faculty/nltk_data...\n",
      "[nltk_data]   Package punkt is already up-to-date!\n",
      "[nltk_data] Downloading package averaged_perceptron_tagger to\n",
      "[nltk_data]     /home/faculty/nltk_data...\n",
      "[nltk_data]   Package averaged_perceptron_tagger is already up-to-\n",
      "[nltk_data]       date!\n",
      "[nltk_data] Downloading package stopwords to\n",
      "[nltk_data]     /home/faculty/nltk_data...\n",
      "[nltk_data]   Package stopwords is already up-to-date!\n",
      "[nltk_data] Downloading package wordnet to /home/faculty/nltk_data...\n",
      "[nltk_data]   Package wordnet is already up-to-date!\n"
     ]
    }
   ],
   "source": [
    "import mysql.connector\n",
    "from neo4j import GraphDatabase\n",
    "from tqdm import tqdm\n",
    "import re\n",
    "import nltk\n",
    "nltk.download(\"omw-1.4\")\n",
    "nltk.download(\"punkt\")\n",
    "nltk.download(\"averaged_perceptron_tagger\")\n",
    "nltk.download(\"stopwords\")\n",
    "nltk.download(\"wordnet\")\n",
    "\n",
    "from nltk.corpus import stopwords, wordnet\n",
    "stop_words = set(stopwords.words(\"english\"))"
   ]
  },
  {
   "cell_type": "code",
   "execution_count": 2,
   "metadata": {},
   "outputs": [],
   "source": [
    "def clean_ingredient(ingredient):\n",
    "    # Remove any text within parentheses\n",
    "    cleaned_ingredient = re.sub(r'\\([^)]*\\)', '', ingredient)\n",
    "    \n",
    "    # Tokenize the string into words\n",
    "    words = nltk.word_tokenize(cleaned_ingredient)\n",
    "\n",
    "    # Filter out stopwords\n",
    "    filtered_words = [word for word in words if word.lower() not in stop_words]\n",
    "\n",
    "    # Use NLTK's POS tagger to identify and extract nouns\n",
    "    nouns = [word for word, pos in nltk.pos_tag(filtered_words) if pos in ['NN', 'NNS']]\n",
    "\n",
    "    # Check if the extracted noun is a food item in WordNet\n",
    "    food_nouns = []\n",
    "    for noun in nouns:\n",
    "        synsets = wordnet.synsets(noun, pos=wordnet.NOUN)\n",
    "        food_related = any(\"food\" in ss.lexname() for ss in synsets)\n",
    "        if food_related:\n",
    "            food_nouns.append(noun)\n",
    "    \n",
    "    # Join the food nouns with spaces and return the result\n",
    "    return ' '.join(food_nouns)"
   ]
  },
  {
   "cell_type": "code",
   "execution_count": 3,
   "metadata": {},
   "outputs": [],
   "source": [
    "# Connect to the MySQL database\n",
    "cnx = mysql.connector.connect(\n",
    "    host='35.229.109.87',\n",
    "    user='root',\n",
    "    password='Password-1',\n",
    "    database='main'\n",
    ")"
   ]
  },
  {
   "cell_type": "code",
   "execution_count": 4,
   "metadata": {},
   "outputs": [],
   "source": [
    "# Neo4j connection\n",
    "neo4j_connection = GraphDatabase.driver(\n",
    "    uri=\"neo4j+s://52fe4988.databases.neo4j.io\",\n",
    "    auth=(\"neo4j\", \"xjpTjnzkjRapCy1LbO64Objiic2MBtfbKvHSA88xMM0\")\n",
    ")"
   ]
  },
  {
   "cell_type": "code",
   "execution_count": 5,
   "metadata": {},
   "outputs": [],
   "source": [
    "# Create a Neo4j session\n",
    "neo4j_session = neo4j_connection.session()"
   ]
  },
  {
   "cell_type": "code",
   "execution_count": 6,
   "metadata": {},
   "outputs": [],
   "source": [
    "# Create a cursor to execute MySQL queries\n",
    "cursor = cnx.cursor()"
   ]
  },
  {
   "cell_type": "code",
   "execution_count": 7,
   "metadata": {},
   "outputs": [
    {
     "name": "stderr",
     "output_type": "stream",
     "text": [
      "Creating Recipe Nodes: 100%|██████████| 329/329 [00:00<00:00, 1078067.20it/s]\n"
     ]
    },
    {
     "data": {
      "text/plain": [
       "<neo4j._sync.work.result.Result at 0x7fa8c2b28fd0>"
      ]
     },
     "execution_count": 7,
     "metadata": {},
     "output_type": "execute_result"
    }
   ],
   "source": [
    "# Fetch recipes with unique titles from the MySQL database\n",
    "\n",
    "cursor.execute(\"\"\"\n",
    "    SELECT r.title, r.id, r.image_url, r.category, r.cuisine, r.cook_time_minutes, r.total_time_minutes, r.yields, r.created_at, r.updated_at\n",
    "    FROM (\n",
    "        SELECT *,\n",
    "               RANK() OVER (PARTITION BY title ORDER BY (cuisine IS NOT NULL) DESC, (category IS NOT NULL) DESC) as recipe_rank\n",
    "        FROM recipe\n",
    "    ) as r\n",
    "    WHERE r.recipe_rank = 1\n",
    "\"\"\")\n",
    "recipes = cursor.fetchall()\n",
    "\n",
    "# Create a list of recipes for batch insertion\n",
    "recipes_list = []\n",
    "unique_titles = set()\n",
    "\n",
    "for recipe in tqdm(recipes, desc=\"Creating Recipe Nodes\"):\n",
    "    title, recipe_id, image_url, category, cuisine, cook_time_minutes, total_time_minutes, yields, created_at, updated_at = recipe\n",
    "    \n",
    "    # Only append unique recipe titles\n",
    "    if title not in unique_titles:\n",
    "        unique_titles.add(title)\n",
    "        recipes_list.append({\"recipe_id\": recipe_id, \"title\": title, \"image_url\": image_url, \"category\": category, \"cuisine\": cuisine, \"cook_time_minutes\": cook_time_minutes, \"total_time_minutes\": total_time_minutes, \"yields\": yields, \"created_at\": created_at, \"updated_at\": updated_at})\n",
    "\n",
    "# Batch insert recipes\n",
    "neo4j_session.run(\"\"\"\n",
    "    UNWIND $recipes_list AS recipe\n",
    "    MERGE (r:Recipe {id: recipe.recipe_id})\n",
    "    ON CREATE SET r.title = recipe.title, r.RecipeName = recipe.title, r.image_url = recipe.image_url, r.category = recipe.category, r.cuisine = recipe.cuisine, r.cook_time_minutes = recipe.cook_time_minutes, r.total_time_minutes = recipe.total_time_minutes, r.yields = recipe.yields, r.created_at = recipe.created_at, r.updated_at = recipe.updated_at\n",
    "\"\"\", {\"recipes_list\": recipes_list})\n"
   ]
  },
  {
   "cell_type": "code",
   "execution_count": 8,
   "metadata": {},
   "outputs": [
    {
     "name": "stderr",
     "output_type": "stream",
     "text": [
      "Creating ingredients list: 100%|██████████| 5783/5783 [09:30<00:00, 10.14it/s]\n"
     ]
    },
    {
     "data": {
      "text/plain": [
       "<neo4j._sync.work.result.Result at 0x7fa8c2bd43d0>"
      ]
     },
     "execution_count": 8,
     "metadata": {},
     "output_type": "execute_result"
    }
   ],
   "source": [
    "# Query to create ingredient nodes and relationships with recipe nodes\n",
    "cursor.execute(\"SELECT recipe_id, ingredient_id, quantity, unit FROM recipe_ingredient\")\n",
    "recipe_ingredients = cursor.fetchall()\n",
    "\n",
    "# Create a list of recipe_ingredients for batch insertion\n",
    "recipe_ingredients_list = []\n",
    "for recipe_ingredient in tqdm(recipe_ingredients, desc=\"Creating ingredients list\"):\n",
    "    recipe_id, ingredient_id, quantity, unit = recipe_ingredient\n",
    "    cursor.execute(\"SELECT name FROM ingredient WHERE id = %s\", (ingredient_id,))\n",
    "    ingredient_name = cursor.fetchone()[0]\n",
    "    \n",
    "    # Clean the ingredient name using the clean_ingredient function\n",
    "    cleaned_ingredient_name = clean_ingredient(ingredient_name)\n",
    "\n",
    "    recipe_ingredients_list.append({\"recipe_id\": recipe_id, \"ingredient_name\": cleaned_ingredient_name, \"quantity\": quantity, \"unit\": unit})\n",
    "\n",
    "# Batch insert ingredients and relationships\n",
    "neo4j_session.run(\"\"\"\n",
    "    UNWIND $recipe_ingredients_list AS ri\n",
    "    MATCH (r:Recipe {id: ri.recipe_id})\n",
    "    MERGE (i:Ingredient {name: ri.ingredient_name})\n",
    "    MERGE (r)-[rel:REQUIRES_INGREDIENT]->(i)\n",
    "    ON CREATE SET rel.quantity = ri.quantity, rel.unit = ri.unit\n",
    "\"\"\", {\"recipe_ingredients_list\": recipe_ingredients_list})"
   ]
  },
  {
   "cell_type": "code",
   "execution_count": 9,
   "metadata": {},
   "outputs": [
    {
     "name": "stderr",
     "output_type": "stream",
     "text": [
      "Creating Cuisine Nodes: 100%|██████████| 7/7 [00:00<00:00, 129912.07it/s]\n"
     ]
    },
    {
     "data": {
      "text/plain": [
       "<neo4j._sync.work.result.Result at 0x7fa8c2b87a90>"
      ]
     },
     "execution_count": 9,
     "metadata": {},
     "output_type": "execute_result"
    }
   ],
   "source": [
    "# Query to create cuisine nodes and relationships with recipe nodes\n",
    "cursor.execute(\"SELECT DISTINCT cuisine FROM recipe WHERE cuisine IS NOT NULL\")\n",
    "cuisines = cursor.fetchall()\n",
    "\n",
    "# Create a list of cuisines for batch insertion\n",
    "cuisines_list = []\n",
    "for cuisine in tqdm(cuisines, desc=\"Creating Cuisine Nodes\"):\n",
    "    (cuisine_name,) = cuisine\n",
    "    cuisines_list.append({\"cuisine_name\": cuisine_name})\n",
    "\n",
    "# Batch insert cuisines\n",
    "neo4j_session.run(\"\"\"\n",
    "    UNWIND $cuisines_list AS cuisine\n",
    "    MERGE (c:Cuisine {name: cuisine.cuisine_name})\n",
    "\"\"\", {\"cuisines_list\": cuisines_list})"
   ]
  },
  {
   "cell_type": "code",
   "execution_count": 10,
   "metadata": {},
   "outputs": [
    {
     "name": "stderr",
     "output_type": "stream",
     "text": [
      "Creating Category Nodes: 100%|██████████| 10/10 [00:00<00:00, 161319.38it/s]\n"
     ]
    },
    {
     "data": {
      "text/plain": [
       "<neo4j._sync.work.result.Result at 0x7fa8c2bdda30>"
      ]
     },
     "execution_count": 10,
     "metadata": {},
     "output_type": "execute_result"
    }
   ],
   "source": [
    "# Query to create category nodes and relationships with recipe nodes\n",
    "cursor.execute(\"SELECT DISTINCT category FROM recipe WHERE category IS NOT NULL\")\n",
    "categories = cursor.fetchall()\n",
    "\n",
    "# Create a list of categories for batch insertion\n",
    "categories_list = []\n",
    "for category in tqdm(categories, desc=\"Creating Category Nodes\"):\n",
    "    (category_name,) = category\n",
    "    categories_list.append({\"category_name\": category_name})\n",
    "\n",
    "# Batch insert categories\n",
    "neo4j_session.run(\"\"\"\n",
    "    UNWIND $categories_list AS category\n",
    "    MERGE (c:Category {name: category.category_name})\n",
    "\"\"\", {\"categories_list\": categories_list})"
   ]
  },
  {
   "cell_type": "code",
   "execution_count": 11,
   "metadata": {},
   "outputs": [
    {
     "data": {
      "text/plain": [
       "<neo4j._sync.work.result.Result at 0x7fa90e0f0070>"
      ]
     },
     "execution_count": 11,
     "metadata": {},
     "output_type": "execute_result"
    }
   ],
   "source": [
    "# First, create BELONGS_TO relationships\n",
    "neo4j_session.run(\"\"\"\n",
    "    UNWIND $recipes_list AS recipe\n",
    "    MATCH (r:Recipe {id: recipe.recipe_id})\n",
    "    WHERE recipe.cuisine IS NOT NULL\n",
    "    MATCH (c:Cuisine {name: recipe.cuisine})\n",
    "    MERGE (r)-[:BELONGS_TO]->(c)\n",
    "\"\"\", {\"recipes_list\": recipes_list})\n",
    "\n",
    "# Then, create HAS_CATEGORY relationships\n",
    "neo4j_session.run(\"\"\"\n",
    "    UNWIND $recipes_list AS recipe\n",
    "    MATCH (r:Recipe {id: recipe.recipe_id})\n",
    "    WHERE recipe.category IS NOT NULL\n",
    "    MATCH (cat:Category {name: recipe.category})\n",
    "    MERGE (r)-[:HAS_CATEGORY]->(cat)\n",
    "\"\"\", {\"recipes_list\": recipes_list})"
   ]
  },
  {
   "cell_type": "code",
   "execution_count": 12,
   "metadata": {},
   "outputs": [
    {
     "name": "stderr",
     "output_type": "stream",
     "text": [
      "Creating Nutrition Data Nodes: 100%|██████████| 250/250 [00:00<00:00, 727672.45it/s]\n"
     ]
    }
   ],
   "source": [
    "# Fetch nutrition data from MySQL\n",
    "cursor.execute(\"\"\"\n",
    "    SELECT n.id, n.recipe_id, n.calories, n.protein, n.fat, n.carbohydrates, n.sugar, n.fiber, n.cholesterol, n.sodium, r.title\n",
    "    FROM nutrition n\n",
    "    INNER JOIN recipe r ON n.recipe_id = r.id\n",
    "\"\"\")\n",
    "nutrition_data_list = cursor.fetchall()\n",
    "\n",
    "# Create a list of nutritions for batch insertion\n",
    "nutrition_list = []\n",
    "for nutrition_data in tqdm(nutrition_data_list, desc=\"Creating Nutrition Data Nodes\"):\n",
    "    nutrition_id, recipe_id, calories, protein, fat, carbohydrates, sugar, fiber, cholesterol, sodium, recipe_title = nutrition_data\n",
    "    nutrition_list.append({\"nutrition_id\": nutrition_id, \"recipe_id\": recipe_id, \"recipe_title\": recipe_title, \"calories\": calories, \"protein\": protein, \"fat\": fat, \"carbohydrates\": carbohydrates, \"sugar\": sugar, \"fiber\": fiber, \"cholesterol\": cholesterol, \"sodium\": sodium})"
   ]
  },
  {
   "cell_type": "code",
   "execution_count": 13,
   "metadata": {},
   "outputs": [
    {
     "data": {
      "text/plain": [
       "<neo4j._sync.work.result.Result at 0x7fa8c2b879a0>"
      ]
     },
     "execution_count": 13,
     "metadata": {},
     "output_type": "execute_result"
    }
   ],
   "source": [
    "# Batch insert nutrition nodes into the graph database\n",
    "neo4j_session.run(\"\"\"\n",
    "    UNWIND $nutrition_list AS nutrition\n",
    "    MERGE (n:Nutrition {id: nutrition.nutrition_id})\n",
    "    ON CREATE SET n.calories = nutrition.calories, n.protein = nutrition.protein, n.fat = nutrition.fat, n.carbohydrates = nutrition.carbohydrates, n.sugar = nutrition.sugar, n.fiber = nutrition.fiber, n.cholesterol = nutrition.cholesterol, n.sodium = nutrition.sodium\n",
    "\"\"\", {\"nutrition_list\": nutrition_list})\n",
    "\n",
    "# Create relationships between recipe nodes and nutrition nodes\n",
    "neo4j_session.run(\"\"\"\n",
    "    UNWIND $nutrition_list AS nutrition\n",
    "    MATCH (r:Recipe {title: nutrition.recipe_title})\n",
    "    MATCH (n:Nutrition {id: nutrition.nutrition_id})\n",
    "    MERGE (r)-[:HAS_NUTRITION]->(n)\n",
    "\"\"\", {\"nutrition_list\": nutrition_list})"
   ]
  },
  {
   "cell_type": "code",
   "execution_count": 14,
   "metadata": {},
   "outputs": [],
   "source": [
    "# Close the Neo4j session\n",
    "neo4j_session.close()\n",
    "\n",
    "# Close the MySQL cursor and connection\n",
    "cursor.close()\n",
    "cnx.close()"
   ]
  }
 ],
 "metadata": {
  "kernelspec": {
   "display_name": "Python [conda env:Python3] *",
   "language": "python",
   "name": "conda-env-Python3-py"
  },
  "language_info": {
   "codemirror_mode": {
    "name": "ipython",
    "version": 3
   },
   "file_extension": ".py",
   "mimetype": "text/x-python",
   "name": "python",
   "nbconvert_exporter": "python",
   "pygments_lexer": "ipython3",
   "version": "3.9.15"
  }
 },
 "nbformat": 4,
 "nbformat_minor": 2
}
