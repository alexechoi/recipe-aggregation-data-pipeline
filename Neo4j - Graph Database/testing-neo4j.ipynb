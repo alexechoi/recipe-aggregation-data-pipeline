{
 "cells": [
  {
   "cell_type": "code",
   "execution_count": 15,
   "metadata": {},
   "outputs": [
    {
     "name": "stderr",
     "output_type": "stream",
     "text": [
      "[nltk_data] Downloading package omw-1.4 to /home/faculty/nltk_data...\n",
      "[nltk_data]   Package omw-1.4 is already up-to-date!\n",
      "[nltk_data] Downloading package punkt to /home/faculty/nltk_data...\n",
      "[nltk_data]   Package punkt is already up-to-date!\n",
      "[nltk_data] Downloading package averaged_perceptron_tagger to\n",
      "[nltk_data]     /home/faculty/nltk_data...\n",
      "[nltk_data]   Package averaged_perceptron_tagger is already up-to-\n",
      "[nltk_data]       date!\n",
      "[nltk_data] Downloading package stopwords to\n",
      "[nltk_data]     /home/faculty/nltk_data...\n",
      "[nltk_data]   Package stopwords is already up-to-date!\n",
      "[nltk_data] Downloading package wordnet to /home/faculty/nltk_data...\n",
      "[nltk_data]   Package wordnet is already up-to-date!\n"
     ]
    }
   ],
   "source": [
    "import mysql.connector\n",
    "from neo4j import GraphDatabase\n",
    "from tqdm import tqdm\n",
    "import re\n",
    "import nltk\n",
    "nltk.download(\"omw-1.4\")\n",
    "nltk.download(\"punkt\")\n",
    "nltk.download(\"averaged_perceptron_tagger\")\n",
    "nltk.download(\"stopwords\")\n",
    "nltk.download(\"wordnet\")\n",
    "\n",
    "from nltk.corpus import stopwords, wordnet\n",
    "stop_words = set(stopwords.words(\"english\"))"
   ]
  },
  {
   "cell_type": "code",
   "execution_count": 16,
   "metadata": {},
   "outputs": [],
   "source": [
    "def clean_ingredient(ingredient):\n",
    "    # Remove any text within parentheses\n",
    "    cleaned_ingredient = re.sub(r'\\([^)]*\\)', '', ingredient)\n",
    "    \n",
    "    # Tokenize the string into words\n",
    "    words = nltk.word_tokenize(cleaned_ingredient)\n",
    "\n",
    "    # Filter out stopwords\n",
    "    filtered_words = [word for word in words if word.lower() not in stop_words]\n",
    "\n",
    "    # Use NLTK's POS tagger to identify and extract nouns\n",
    "    nouns = [word for word, pos in nltk.pos_tag(filtered_words) if pos in ['NN', 'NNS']]\n",
    "\n",
    "    # Check if the extracted noun is a food item in WordNet\n",
    "    food_nouns = []\n",
    "    for noun in nouns:\n",
    "        synsets = wordnet.synsets(noun, pos=wordnet.NOUN)\n",
    "        food_related = any(\"food\" in ss.lexname() for ss in synsets)\n",
    "        if food_related:\n",
    "            food_nouns.append(noun)\n",
    "    \n",
    "    # Join the food nouns with spaces and return the result\n",
    "    return ' '.join(food_nouns)"
   ]
  },
  {
   "cell_type": "code",
   "execution_count": 17,
   "metadata": {},
   "outputs": [],
   "source": [
    "# Connect to the MySQL database\n",
    "cnx = mysql.connector.connect(\n",
    "    host='',\n",
    "    user='',\n",
    "    password='',\n",
    "    database=''\n",
    ")"
   ]
  },
  {
   "cell_type": "code",
   "execution_count": 18,
   "metadata": {},
   "outputs": [],
   "source": [
    "# Neo4j connection\n",
    "neo4j_connection = GraphDatabase.driver(\n",
    "    uri=\"\",\n",
    "    auth=(\"neo4j\", \"\")\n",
    ")"
   ]
  },
  {
   "cell_type": "code",
   "execution_count": 19,
   "metadata": {},
   "outputs": [],
   "source": [
    "def create_recipe_nodes(tx, recipes_data):\n",
    "    query = \"\"\"\n",
    "        UNWIND $recipes_data AS data\n",
    "        MERGE (r:Recipe {id: data.recipe_id})\n",
    "        ON CREATE SET r.title = data.title, r.image_url = data.image_url, r.category = data.category, r.cuisine = data.cuisine, r.cook_time_minutes = data.cook_time_minutes, r.total_time_minutes = data.total_time_minutes, r.yields = data.yields, r.created_at = data.created_at, r.updated_at = data.updated_at\n",
    "    \"\"\"\n",
    "    tx.run(query, recipes_data=recipes_data)"
   ]
  },
  {
   "cell_type": "code",
   "execution_count": 20,
   "metadata": {},
   "outputs": [],
   "source": [
    "def create_ingredient_nodes_and_relationships(tx, recipe_ingredients_data):\n",
    "    query = \"\"\"\n",
    "        UNWIND $recipe_ingredients_data AS data\n",
    "        MATCH (r:Recipe {id: data.recipe_id})\n",
    "        MERGE (i:Ingredient {id: data.ingredient_id}) ON CREATE SET i.name = data.ingredient_name, i:Food\n",
    "        MERGE (r)-[ri:REQUIRES_INGREDIENT]->(i) ON CREATE SET ri.quantity = data.quantity, ri.unit = data.unit\n",
    "    \"\"\"\n",
    "    tx.run(query, recipe_ingredients_data=recipe_ingredients_data)"
   ]
  },
  {
   "cell_type": "code",
   "execution_count": 21,
   "metadata": {},
   "outputs": [],
   "source": [
    "# Create a Neo4j session\n",
    "neo4j_session = neo4j_connection.session()"
   ]
  },
  {
   "cell_type": "code",
   "execution_count": 22,
   "metadata": {},
   "outputs": [],
   "source": [
    "# Create a cursor to execute MySQL queries\n",
    "cursor = cnx.cursor()"
   ]
  },
  {
   "cell_type": "code",
   "execution_count": 23,
   "metadata": {},
   "outputs": [],
   "source": [
    "# Query to create recipe nodes\n",
    "cursor.execute(\"SELECT id, title, image_url, category, cuisine, cook_time_minutes, total_time_minutes, yields, created_at, updated_at FROM recipe\")\n",
    "recipes = cursor.fetchall()"
   ]
  },
  {
   "cell_type": "code",
   "execution_count": 24,
   "metadata": {},
   "outputs": [
    {
     "name": "stderr",
     "output_type": "stream",
     "text": [
      "Creating Recipe Nodes: 100%|██████████| 559/559 [00:00<00:00, 666084.07it/s]\n"
     ]
    },
    {
     "data": {
      "text/plain": [
       "<neo4j._sync.work.result.Result at 0x7f1b27e39190>"
      ]
     },
     "execution_count": 24,
     "metadata": {},
     "output_type": "execute_result"
    }
   ],
   "source": [
    "# Create a list of recipes for batch insertion\n",
    "recipes_list = []\n",
    "for recipe in tqdm(recipes, desc=\"Creating Recipe Nodes\"):\n",
    "    recipe_id, title, image_url, category, cuisine, cook_time_minutes, total_time_minutes, yields, created_at, updated_at = recipe\n",
    "    recipes_list.append({\"recipe_id\": recipe_id, \"title\": title, \"image_url\": image_url, \"category\": category, \"cuisine\": cuisine, \"cook_time_minutes\": cook_time_minutes, \"total_time_minutes\": total_time_minutes, \"yields\": yields, \"created_at\": created_at, \"updated_at\": updated_at})\n",
    "\n",
    "# Batch insert recipes\n",
    "neo4j_session.run(\"\"\"\n",
    "    UNWIND $recipes_list AS recipe\n",
    "    MERGE (r:Recipe {id: recipe.recipe_id})\n",
    "    ON CREATE SET r += recipe\n",
    "\"\"\", {\"recipes_list\": recipes_list})"
   ]
  },
  {
   "cell_type": "code",
   "execution_count": 25,
   "metadata": {},
   "outputs": [
    {
     "name": "stderr",
     "output_type": "stream",
     "text": [
      "Creating ingredients list: 100%|██████████| 5783/5783 [09:37<00:00, 10.01it/s]\n"
     ]
    },
    {
     "data": {
      "text/plain": [
       "<neo4j._sync.work.result.Result at 0x7f1b27edce50>"
      ]
     },
     "execution_count": 25,
     "metadata": {},
     "output_type": "execute_result"
    }
   ],
   "source": [
    "# Query to create ingredient nodes and relationships with recipe nodes\n",
    "cursor.execute(\"SELECT recipe_id, ingredient_id, quantity, unit FROM recipe_ingredient\")\n",
    "recipe_ingredients = cursor.fetchall()\n",
    "\n",
    "# Create a list of recipe_ingredients for batch insertion\n",
    "recipe_ingredients_list = []\n",
    "for recipe_ingredient in tqdm(recipe_ingredients, desc=\"Creating ingredients list\"):\n",
    "    recipe_id, ingredient_id, quantity, unit = recipe_ingredient\n",
    "    cursor.execute(\"SELECT name FROM ingredient WHERE id = %s\", (ingredient_id,))\n",
    "    ingredient_name = cursor.fetchone()[0]\n",
    "    \n",
    "    # Clean the ingredient name using the clean_ingredient function\n",
    "    cleaned_ingredient_name = clean_ingredient(ingredient_name)\n",
    "\n",
    "    recipe_ingredients_list.append({\"recipe_id\": recipe_id, \"ingredient_id\": ingredient_id, \"ingredient_name\": cleaned_ingredient_name, \"quantity\": quantity, \"unit\": unit})\n",
    "\n",
    "# Batch insert ingredients and relationships\n",
    "neo4j_session.run(\"\"\"\n",
    "    UNWIND $recipe_ingredients_list AS ri\n",
    "    MATCH (r:Recipe {id: ri.recipe_id})\n",
    "    MERGE (i:Ingredient {id: ri.ingredient_id})\n",
    "    ON CREATE SET i.name = ri.ingredient_name\n",
    "    MERGE (r)-[rel:REQUIRES_INGREDIENT]->(i)\n",
    "    ON CREATE SET rel.quantity = ri.quantity, rel.unit = ri.unit\n",
    "\"\"\", {\"recipe_ingredients_list\": recipe_ingredients_list})\n"
   ]
  },
  {
   "cell_type": "code",
   "execution_count": 26,
   "metadata": {},
   "outputs": [
    {
     "name": "stderr",
     "output_type": "stream",
     "text": [
      "Creating Cuisine Nodes: 100%|██████████| 7/7 [00:00<00:00, 132252.83it/s]\n"
     ]
    },
    {
     "data": {
      "text/plain": [
       "<neo4j._sync.work.result.Result at 0x7f1b27e5ce20>"
      ]
     },
     "execution_count": 26,
     "metadata": {},
     "output_type": "execute_result"
    }
   ],
   "source": [
    "# Query to create cuisine nodes and relationships with recipe nodes\n",
    "cursor.execute(\"SELECT DISTINCT cuisine FROM recipe WHERE cuisine IS NOT NULL\")\n",
    "cuisines = cursor.fetchall()\n",
    "\n",
    "# Create a list of cuisines for batch insertion\n",
    "cuisines_list = []\n",
    "for cuisine in tqdm(cuisines, desc=\"Creating Cuisine Nodes\"):\n",
    "    (cuisine_name,) = cuisine\n",
    "    cuisines_list.append({\"cuisine_name\": cuisine_name})\n",
    "\n",
    "# Batch insert cuisines\n",
    "neo4j_session.run(\"\"\"\n",
    "    UNWIND $cuisines_list AS cuisine\n",
    "    MERGE (c:Cuisine {name: cuisine.cuisine_name})\n",
    "\"\"\", {\"cuisines_list\": cuisines_list})\n",
    "\n",
    "# Update the recipe creation query to include the relationship with the cuisine nodes (exclude recipes with NULL cuisine)\n",
    "neo4j_session.run(\"\"\"\n",
    "    UNWIND $recipes_list AS recipe\n",
    "    MERGE (r:Recipe {id: recipe.recipe_id})\n",
    "    ON CREATE SET r += recipe\n",
    "    WITH r, recipe\n",
    "    WHERE recipe.cuisine IS NOT NULL\n",
    "    MATCH (c:Cuisine {name: recipe.cuisine})\n",
    "    MERGE (r)-[:BELONGS_TO]->(c)\n",
    "    WITH r, recipe\n",
    "    WHERE recipe.category IS NOT NULL\n",
    "    MATCH (cat:Category {name: recipe.category})\n",
    "    MERGE (r)-[:HAS_CATEGORY]->(cat)\n",
    "\"\"\", {\"recipes_list\": recipes_list})"
   ]
  },
  {
   "cell_type": "code",
   "execution_count": 27,
   "metadata": {},
   "outputs": [
    {
     "name": "stderr",
     "output_type": "stream",
     "text": [
      "Creating Category Nodes: 100%|██████████| 10/10 [00:00<00:00, 171196.08it/s]\n"
     ]
    },
    {
     "data": {
      "text/plain": [
       "<neo4j._sync.work.result.Result at 0x7f1b20eb34f0>"
      ]
     },
     "execution_count": 27,
     "metadata": {},
     "output_type": "execute_result"
    }
   ],
   "source": [
    "# Query to create category nodes and relationships with recipe nodes\n",
    "cursor.execute(\"SELECT DISTINCT category FROM recipe WHERE category IS NOT NULL\")\n",
    "categories = cursor.fetchall()\n",
    "\n",
    "# Create a list of categories for batch insertion\n",
    "categories_list = []\n",
    "for category in tqdm(categories, desc=\"Creating Category Nodes\"):\n",
    "    (category_name,) = category\n",
    "    categories_list.append({\"category_name\": category_name})\n",
    "\n",
    "# Batch insert categories\n",
    "neo4j_session.run(\"\"\"\n",
    "    UNWIND $categories_list AS category\n",
    "    MERGE (c:Category {name: category.category_name})\n",
    "\"\"\", {\"categories_list\": categories_list})\n",
    "\n",
    "# Update the recipe creation query to include the relationship with the category nodes\n",
    "neo4j_session.run(\"\"\"\n",
    "    UNWIND $recipes_list AS recipe\n",
    "    MERGE (r:Recipe {id: recipe.recipe_id})\n",
    "    ON CREATE SET r += recipe\n",
    "    WITH r, recipe\n",
    "    WHERE recipe.cuisine IS NOT NULL\n",
    "    MATCH (c:Cuisine {name: recipe.cuisine})\n",
    "    MERGE (r)-[:BELONGS_TO]->(c)\n",
    "    WITH r, recipe\n",
    "    WHERE recipe.category IS NOT NULL\n",
    "    MATCH (cat:Category {name: recipe.category})\n",
    "    MERGE (r)-[:HAS_CATEGORY]->(cat)\n",
    "\"\"\", {\"recipes_list\": recipes_list})"
   ]
  },
  {
   "cell_type": "code",
   "execution_count": 28,
   "metadata": {},
   "outputs": [],
   "source": [
    "# Close the Neo4j session\n",
    "neo4j_session.close()\n",
    "\n",
    "# Close the MySQL cursor and connection\n",
    "cursor.close()\n",
    "cnx.close()"
   ]
  }
 ],
 "metadata": {
  "kernelspec": {
   "display_name": "Python [conda env:Python3] *",
   "language": "python",
   "name": "conda-env-Python3-py"
  },
  "language_info": {
   "codemirror_mode": {
    "name": "ipython",
    "version": 3
   },
   "file_extension": ".py",
   "mimetype": "text/x-python",
   "name": "python",
   "nbconvert_exporter": "python",
   "pygments_lexer": "ipython3",
   "version": "3.9.15"
  }
 },
 "nbformat": 4,
 "nbformat_minor": 2
}
