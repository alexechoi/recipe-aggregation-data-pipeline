{
 "cells": [
  {
   "cell_type": "code",
   "execution_count": 2,
   "metadata": {},
   "outputs": [
    {
     "name": "stdout",
     "output_type": "stream",
     "text": [
      "Recipes saved to: ../output/edamam-output.json\n"
     ]
    }
   ],
   "source": [
    "import requests\n",
    "import json\n",
    "import os\n",
    "import random\n",
    "import string\n",
    "\n",
    "APP_ID = \"***REMOVED***\"  # Replace this with your actual App ID\n",
    "APP_KEY = \"***REMOVED***\"  # Replace this with your actual App Key\n",
    "BASE_URL = \"https://api.edamam.com/search\"\n",
    "\n",
    "def get_recipes_by_random_character():\n",
    "    random_character = random.choice(string.ascii_lowercase)\n",
    "    querystring = {\"q\": random_character, \"app_id\": APP_ID, \"app_key\": APP_KEY}\n",
    "    response = requests.get(BASE_URL, params=querystring)\n",
    "\n",
    "    if response.status_code == 200:\n",
    "        return response.json()\n",
    "    else:\n",
    "        print(\"Error: Unable to fetch recipes. Status code:\", response.status_code)\n",
    "        return None\n",
    "\n",
    "def save_to_json_file(data, file_path):\n",
    "    file_exists = os.path.isfile(file_path)\n",
    "\n",
    "    recipes = data.get(\"hits\", [])\n",
    "    flattened_recipes = []\n",
    "    for recipe in recipes:\n",
    "        flattened_recipe = recipe[\"recipe\"].copy()\n",
    "        flattened_recipe[\"ingredients\"] = recipe[\"recipe\"][\"ingredientLines\"]\n",
    "        flattened_recipes.append(flattened_recipe)\n",
    "\n",
    "    with open(file_path, \"a\" if file_exists else \"w\") as f:\n",
    "        if file_exists:\n",
    "            f.write(\",\\n\")\n",
    "        json.dump(flattened_recipes, f, indent=2)\n",
    "\n",
    "\n",
    "if __name__ == \"__main__\":\n",
    "    output_dir = \"../output\"\n",
    "    os.makedirs(output_dir, exist_ok=True)\n",
    "\n",
    "    output_file = os.path.join(output_dir, \"edamam-output.json\")\n",
    "\n",
    "    recipes = get_recipes_by_random_character()\n",
    "    \n",
    "    if recipes:\n",
    "        save_to_json_file(recipes, output_file)\n",
    "        print(\"Recipes saved to:\", output_file)\n",
    "    else:\n",
    "        print(\"No recipes found.\")\n"
   ]
  }
 ],
 "metadata": {
  "kernelspec": {
   "display_name": "Python [conda env:Python3] *",
   "language": "python",
   "name": "conda-env-Python3-py"
  },
  "language_info": {
   "codemirror_mode": {
    "name": "ipython",
    "version": 3
   },
   "file_extension": ".py",
   "mimetype": "text/x-python",
   "name": "python",
   "nbconvert_exporter": "python",
   "pygments_lexer": "ipython3",
   "version": "3.9.15"
  }
 },
 "nbformat": 4,
 "nbformat_minor": 2
}
