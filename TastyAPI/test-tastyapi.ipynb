{
 "cells": [
  {
   "cell_type": "code",
   "execution_count": 1,
   "metadata": {},
   "outputs": [
    {
     "name": "stdout",
     "output_type": "stream",
     "text": [
      "Recipes saved to: ../output/tasty-output.json\n"
     ]
    }
   ],
   "source": [
    "import requests\n",
    "import json\n",
    "import os\n",
    "import random\n",
    "import string\n",
    "\n",
    "API_KEY = \"***REMOVED***\"  # Replace this with your actual API key\n",
    "BASE_URL = \"https://tasty.p.rapidapi.com/recipes/list\"\n",
    "\n",
    "headers = {\n",
    "    \"X-RapidAPI-Key\": API_KEY,\n",
    "    \"X-RapidAPI-Host\": \"tasty.p.rapidapi.com\"\n",
    "}\n",
    "\n",
    "def get_recipes():\n",
    "    querystring = {\"from\": \"0\", \"size\": \"20\", \"tags\": \"under_30_minutes\"}\n",
    "    response = requests.get(BASE_URL, headers=headers, params=querystring)\n",
    "\n",
    "    if response.status_code == 200:\n",
    "        return response.json()\n",
    "    else:\n",
    "        print(\"Error: Unable to fetch recipes. Status code:\", response.status_code)\n",
    "        return None\n",
    "\n",
    "def save_to_json_file(data, file_path):\n",
    "    file_exists = os.path.isfile(file_path)\n",
    "    \n",
    "    recipes = data.get(\"results\", [])\n",
    "\n",
    "    with open(file_path, \"a\" if file_exists else \"w\") as f:\n",
    "        if file_exists:\n",
    "            f.write(\",\\n\")\n",
    "        json.dump(recipes, f, indent=2)\n",
    "\n",
    "\n",
    "if __name__ == \"__main__\":\n",
    "    output_dir = \"../output\"\n",
    "    os.makedirs(output_dir, exist_ok=True)\n",
    "\n",
    "    output_file = os.path.join(output_dir, \"tasty-output.json\")\n",
    "\n",
    "    recipes = get_recipes()\n",
    "    \n",
    "    if recipes:\n",
    "        save_to_json_file(recipes, output_file)\n",
    "        print(\"Recipes saved to:\", output_file)\n",
    "    else:\n",
    "        print(\"No recipes found.\")"
   ]
  }
 ],
 "metadata": {
  "kernelspec": {
   "display_name": "Python [conda env:Python3] *",
   "language": "python",
   "name": "conda-env-Python3-py"
  },
  "language_info": {
   "codemirror_mode": {
    "name": "ipython",
    "version": 3
   },
   "file_extension": ".py",
   "mimetype": "text/x-python",
   "name": "python",
   "nbconvert_exporter": "python",
   "pygments_lexer": "ipython3",
   "version": "3.9.15"
  }
 },
 "nbformat": 4,
 "nbformat_minor": 2
}
