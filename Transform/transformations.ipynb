{
 "cells": [
  {
   "cell_type": "markdown",
   "metadata": {},
   "source": [
    "# Transform and insert data"
   ]
  },
  {
   "cell_type": "code",
   "execution_count": 17,
   "metadata": {
    "scrolled": true
   },
   "outputs": [
    {
     "name": "stdout",
     "output_type": "stream",
     "text": [
      "/bin/bash: /opt/anaconda/envs/Python3/lib/libtinfo.so.6: no version information available (required by /bin/bash)\n",
      "\u001b[1m\n",
      "         .:::.     .::.       \n",
      "        ....yy:    .yy.       \n",
      "        :.  .yy.    y.        \n",
      "             :y:   .:         \n",
      "             .yy  .:          \n",
      "              yy..:           \n",
      "              :y:.            \n",
      "              .y.             \n",
      "             .:.              \n",
      "        ....:.                \n",
      "        :::.                  \n",
      "\u001b[0;33m\n",
      "• Project files and data should be stored in /project. This is shared among everyone\n",
      "  in the project.\n",
      "• Personal files and configuration should be stored in /home/faculty.\n",
      "• Files outside /project and /home/faculty will be lost when this server is terminated.\n",
      "• Create custom environments to setup your servers reproducibly.\n",
      "\u001b[0m\n",
      "bash: /opt/anaconda/envs/Python3/lib/libtinfo.so.6: no version information available (required by bash)\n",
      "Requirement already satisfied: mysql-connector-python in /opt/anaconda/envs/Python3/lib/python3.9/site-packages (8.0.32)\n",
      "Requirement already satisfied: protobuf<=3.20.3,>=3.11.0 in /opt/anaconda/envs/Python3/lib/python3.9/site-packages (from mysql-connector-python) (3.19.6)\n"
     ]
    }
   ],
   "source": [
    "!pip install mysql-connector-python\n",
    "!pip install pymysql"
   ]
  },
  {
   "cell_type": "markdown",
   "metadata": {},
   "source": [
    "## Transform Simply Recipes"
   ]
  },
  {
   "cell_type": "code",
   "execution_count": 76,
   "metadata": {},
   "outputs": [],
   "source": [
    "def transform_simplyrecipes_json(recipe_json):\n",
    "    transformed_recipe = {\n",
    "        \"title\": recipe_json[\"title\"],\n",
    "        \"instructions\": \" \".join(recipe_json[\"instructions\"]),\n",
    "        \"ingredients\": [{\"name\": ingredient} for ingredient in recipe_json[\"ingredients\"]]\n",
    "    }\n",
    "    return transformed_recipe"
   ]
  },
  {
   "cell_type": "code",
   "execution_count": 77,
   "metadata": {},
   "outputs": [],
   "source": [
    "import json\n",
    "\n",
    "# Load the simplyrecipes.json file\n",
    "with open(\"../output/simplyrecipes.json\") as f:\n",
    "    simplyrecipes_data = json.load(f)\n",
    "\n",
    "# Transform the data\n",
    "transformed_data_simplyrecipes = [transform_simplyrecipes_json(recipe) for recipe in simplyrecipes_data]\n",
    "\n",
    "# The transformed_data list now contains dictionaries ready for insertion into the MySQL database"
   ]
  },
  {
   "cell_type": "markdown",
   "metadata": {},
   "source": [
    "## Transform Edamam"
   ]
  },
  {
   "cell_type": "code",
   "execution_count": 78,
   "metadata": {},
   "outputs": [],
   "source": [
    "def transform_edamam_data(raw_data):\n",
    "    transformed_data = []\n",
    "\n",
    "    for recipe in raw_data:\n",
    "        nutrients = recipe[\"totalNutrients\"]\n",
    "\n",
    "        nutrition = {\n",
    "            \"calories\": round(recipe[\"calories\"]),\n",
    "            \"protein\": round(nutrients[\"PROCNT\"][\"quantity\"]) if \"PROCNT\" in nutrients else None,\n",
    "            \"fat\": round(nutrients[\"FAT\"][\"quantity\"]) if \"FAT\" in nutrients else None,\n",
    "            \"carbohydrates\": round(nutrients[\"CHOCDF\"][\"quantity\"]) if \"CHOCDF\" in nutrients else None,\n",
    "            \"sugar\": round(nutrients[\"SUGAR\"][\"quantity\"]) if \"SUGAR\" in nutrients else None,\n",
    "            \"fiber\": round(nutrients[\"FIBTG\"][\"quantity\"]) if \"FIBTG\" in nutrients else None,\n",
    "            \"cholesterol\": round(nutrients[\"CHOLE\"][\"quantity\"]) if \"CHOLE\" in nutrients else None,\n",
    "            \"sodium\": round(nutrients[\"NA\"][\"quantity\"]) if \"NA\" in nutrients else None\n",
    "        }\n",
    "\n",
    "        transformed_item = {\n",
    "            \"title\": recipe[\"label\"],\n",
    "            \"source_url\": recipe[\"url\"],\n",
    "            \"image_url\": recipe[\"image\"],\n",
    "            \"instructions\": \"\",\n",
    "            \"ingredients\": [{\"name\": ing} for ing in recipe[\"ingredientLines\"]],\n",
    "            \"nutrition\": nutrition,\n",
    "        }\n",
    "\n",
    "        transformed_data.append(transformed_item)\n",
    "\n",
    "    return transformed_data"
   ]
  },
  {
   "cell_type": "code",
   "execution_count": 79,
   "metadata": {},
   "outputs": [],
   "source": [
    "import json\n",
    "\n",
    "# Load the data\n",
    "with open(\"../output/edamam-output.json\", \"r\") as f:\n",
    "    edamam_data = json.load(f)\n",
    "\n",
    "# Transform the data\n",
    "transformed_data_edamam = transform_edamam_data(edamam_data)"
   ]
  },
  {
   "cell_type": "markdown",
   "metadata": {},
   "source": [
    "## Transform Tasty"
   ]
  },
  {
   "cell_type": "code",
   "execution_count": 93,
   "metadata": {},
   "outputs": [],
   "source": [
    "def transform_tastyapi_data(raw_data):\n",
    "    transformed_data = []\n",
    "\n",
    "    for item in raw_data:\n",
    "        transformed_recipe = {\n",
    "            \"title\": item[\"name\"],\n",
    "            \"image_url\": item[\"thumbnail_url\"],\n",
    "        }\n",
    "\n",
    "        if \"instructions\" in item:\n",
    "            transformed_recipe[\"instructions\"] = \"\\n\".join([instruction[\"display_text\"] for instruction in item[\"instructions\"]])\n",
    "\n",
    "        if \"sections\" in item:\n",
    "            transformed_recipe[\"ingredients\"] = [{\"name\": ing[\"raw_text\"]} for section in item[\"sections\"] for ing in section[\"components\"]]\n",
    "\n",
    "        if \"nutrition\" in item:\n",
    "            transformed_recipe[\"nutrition\"] = {\n",
    "                \"calories\": item[\"nutrition\"].get(\"calories\", None),\n",
    "                \"protein\": item[\"nutrition\"].get(\"protein\", None),\n",
    "                \"fat\": item[\"nutrition\"].get(\"fat\", None),\n",
    "                \"carbohydrates\": item[\"nutrition\"].get(\"carbohydrates\", None),\n",
    "                \"sugar\": item[\"nutrition\"].get(\"sugar\", None),\n",
    "                \"fiber\": item[\"nutrition\"].get(\"fiber\", None),\n",
    "            }\n",
    "\n",
    "        transformed_data.append(transformed_recipe)\n",
    "\n",
    "    return transformed_data\n"
   ]
  },
  {
   "cell_type": "code",
   "execution_count": 94,
   "metadata": {},
   "outputs": [],
   "source": [
    "# Load the data\n",
    "with open(\"../output/tasty-output.json\", \"r\") as f:\n",
    "    tastyapi = json.load(f)\n",
    "\n",
    "transformed_data_tastyapi = transform_tastyapi_data(tastyapi)"
   ]
  },
  {
   "cell_type": "code",
   "execution_count": 95,
   "metadata": {
    "scrolled": false
   },
   "outputs": [
    {
     "name": "stdout",
     "output_type": "stream",
     "text": [
      "[{'title': 'Chocolate Chip Cookie Dough Blended Oats', 'image_url': 'https://img.buzzfeed.com/thumbnailer-prod-us-east-1/video-api/assets/432886.jpg', 'instructions': 'Add the oats, milk, egg, baking powder, cinnamon, maple syrup, 1 tablespoon of almond butter, the banana, and vanilla, if using, to a blender and blend until smooth. If using nuts and cacao nibs, add to the blender and blend for just a few seconds to help distribute without breaking them up too much. This will add a lovely crunch to your oats.\\nPour half the batter into a large mug or oven-safe ramekin, greased with butter or cooking spray. Add the remaining tablespoon of almond butter and 1½ tablespoons of chocolate chips to the center. Cover with the rest of the batter. Top with the remaining 1½ tablespoons of chocolate chips.\\nPreheat the air fryer to 325°F (160°C). Place the mug in the air fryer and cook for 20 minutes, until golden brown and a toothpick inserted into the center comes out clean. Alternatively, microwave the oats for 2 minutes (make sure to use a mug that holds at least 20 ounces, as microwaving causes the batter to rise very quickly and may result in overflowing).\\nEnjoy!', 'ingredients': [{'name': '½ cup oats'}, {'name': '⅓ cup milk of choice'}, {'name': '1 large egg'}, {'name': '¼ teaspoon baking powder'}, {'name': 'Dash of ground cinnamon'}, {'name': '1 tablespoon maple syrup'}, {'name': '2 tablespoons almond butter, divided'}, {'name': '½ banana'}, {'name': '½ teaspoon vanilla extract (optional)'}, {'name': '1 tablespoon chopped nuts of choice (optional)'}, {'name': '1 teaspoon cacao nibs (optional)'}, {'name': '3 tablespoons chocolate chips, divided'}], 'nutrition': {'calories': 940, 'protein': 30, 'fat': 40, 'carbohydrates': 121, 'sugar': 39, 'fiber': 16}}, {'title': 'Copycat McDonald’s Shamrock Shake', 'image_url': 'https://img.buzzfeed.com/thumbnailer-prod-us-east-1/video-api/assets/432796.jpg', 'instructions': 'Add the ice cream, milk, and cream to a blender. Blend on medium speed for about 2 minutes, until smooth, then add the mint extract and green food coloring and blend until evenly incorporated and the shake is creamy, about 1 minute more.\\nPour the shake into a serving glass and top with the whipped cream, mint chocolate shavings, and sprinkles.\\nEnjoy!', 'ingredients': [{'name': '3 cups homestyle vanilla ice cream'}, {'name': '¼ cup whole milk'}, {'name': '¼ cup heavy cream'}, {'name': '1½ teaspoons pure mint extract (NOT peppermint extract'}, {'name': '3 drops green food coloring, plus more as needed'}, {'name': 'Whipped cream'}, {'name': 'Shaved mint chocolate bar'}, {'name': 'Sprinkles'}], 'nutrition': {'calories': None, 'protein': None, 'fat': None, 'carbohydrates': None, 'sugar': None, 'fiber': None}}, {'title': 'Chorizo And Bean Tacos', 'image_url': 'https://img.buzzfeed.com/thumbnailer-prod-us-east-1/video-api/assets/429740.jpg', 'instructions': 'Heat the olive oil in a large pan over medium heat. Add the onion and chorizo and cook for 6–8 minutes, or until the liquid from the chorizo begins to evaporate. Add the tomato and half of the cilantro and cook for another 2–3 minutes, until all of the liquid has evaporated. Add the beans and mix well to combine.\\nHeat a separate large pan or griddle over medium-high heat. Cook the tortillas for about 1 minute on each side, or until air bubbles and golden brown spots appear.\\nSpoon the chorizo and bean filling onto the tortillas, then sprinkle with queso fresco and the remaining cilantro. Serve immediately.\\nEnjoy!', 'ingredients': [{'name': '½ medium white onion, diced'}, {'name': '8 ounces pork or beef chorizo'}, {'name': '1 Roma tomato, diced'}, {'name': '1 small bunch of fresh cilantro, chopped, divided'}, {'name': '1 15-ounce can of refried black beans'}, {'name': '12 medium white corn tortillas'}, {'name': '6 ounces queso fresco, crumbled'}, {'name': 'Salsa of choice, for serving (optional)'}], 'nutrition': {'calories': 214, 'protein': 10, 'fat': 11, 'carbohydrates': 17, 'sugar': 0, 'fiber': 2}}, {'title': 'Linguine Carbonara', 'image_url': 'https://img.buzzfeed.com/thumbnailer-prod-us-east-1/video-api/assets/427506.jpg', 'instructions': 'Bring a large pot of salted water to a boil. Add the linguine and cook according to the package instructions until al dente. Reserve 2 cups (480 ml) of the pasta cooking water, then drain.\\nIn a large skillet over medium heat, cook the bacon until crispy and browned, about 5 minutes. Remove from the pan and drain on a paper towel–lined plate.\\nAdd the olive oil to the skillet, then add the shallots and half of the black pepper, and sauté until the shallots are translucent, 3–5 minutes.\\nIn a medium bowl, whisk together the egg yolks, egg whites, pecorino cheese, and remaining half of the black pepper until thickened.\\nReduce the heat to the lowest setting, then add the linguine and 1 cup of reserved pasta water to the skillet. Add the egg mixture and toss with tongs until the sauce is smooth, about 6 minutes. Add the remaining cup of pasta water and season with salt to taste, then continue to toss for another 3–4 minutes, until the pasta is well coated and the sauce has thickened enough to cling to the noodles. Remove the pan from the heat.\\nDivide the pasta between serving plates or bowls and garnish with the crispy bacon, parsley, and more black pepper. Serve immediately.\\nEnjoy!', 'ingredients': [{'name': 'Kosher salt, to taste'}, {'name': '1 pound dried linguine'}, {'name': '6 slices thick-cut bacon, cut into ½-inch strips'}, {'name': '⅓ cup minced shallots'}, {'name': '¾ teaspoon freshly ground black pepper, divided, plus more for garnish'}, {'name': '8 large egg yolks'}, {'name': '2 large egg whites'}, {'name': '½ cup grated pecorino cheese'}, {'name': 'Roughly chopped fresh parsley leaves, for garnish'}], 'nutrition': {'calories': 717, 'protein': 38, 'fat': 21, 'carbohydrates': 89, 'sugar': 5, 'fiber': 4}}, {'title': 'Eggs In A Baguette', 'image_url': 'https://img.buzzfeed.com/thumbnailer-prod-us-east-1/video-api/assets/427507.jpg', 'instructions': 'Preheat the oven to 400°F (200°C). Line a baking sheet with aluminum foil.\\nUse a serrated knife to cut out 4 holes across the top of the baguette, making sure each is large enough to hold an egg. Wrap the sides of the baguette with aluminum foil to hold it in place and place on the prepared baking sheet.\\nIn a small bowl, combine the butter, garlic, parsley, salt, and pepper.\\nSpread the holes in the baguette with the garlic butter, then crack an egg into each hole.\\nBake the baguette for 15–20 minutes, or until the whites are cooked through but the yolks are still runny.\\nGarnish with chives and black pepper, then cut the baguette crosswise between the eggs into individual servings. Serve immediately.\\nEnjoy!', 'ingredients': [{'name': '1 large baguette'}, {'name': '2 tablespoons melted unsalted butter'}, {'name': '3 garlic cloves, minced'}, {'name': '2 tablespoons chopped fresh parsley'}, {'name': '1 teaspoon kosher salt'}, {'name': '1 teaspoon freshly ground black pepper, plus more for garnish'}, {'name': '4 large eggs'}, {'name': 'Chopped chives, for garnish'}], 'nutrition': {'calories': 353, 'protein': 16, 'fat': 13, 'carbohydrates': 40, 'sugar': 3, 'fiber': 14}}, {'title': 'Kanafeh', 'image_url': 'https://img.buzzfeed.com/thumbnailer-prod-us-east-1/video-api/assets/428295.jpg', 'instructions': 'Soak the ackawi cheese in room temperature water for about 6 hours to reduce the saltiness.\\nAdd the kataifi to a food processor with the melted butter and pulse until the strands of phyllo have broken down to the size of rice grains. Transfer to a large bowl, then clean and dry the food processor bowl.\\nDrain the ackawi, then add to the food processor with the sweet white cheese and process until the cheese is broken down to small, evenly-sized chunks.\\nIn a small bowl, stir the powdered orange dye into the ghee until the color is homogenous.\\nBrush a 16-inch, round baking tray with the orange-dyed ghee. Reserve 1½ cups of the shredded phyllo, then sprinkle the rest over the baking sheet to cover completely, pressing down into a flat, even layer. Scatter the ackawi and sweet cheese mixture and the mozzarella cheese over the phyllo layer, then top with the reserved phyllo.\\nPlace the baking tray directly on the stovetop over medium-low heat. Cook, using tongs to shift and rotate the pan continuously to prevent burning, until the cheese is completely melted, 8–10 minutes. Reduce the heat to low if needed if the phyllo is browning too quickly.\\nPlace a second baking tray over the top of the kanafeh, then carefully flip over so the orange side of the kanafeh is facing upwards. Remove the top baking sheet, then quickly pour the simple syrup over the kanafeh and garnish with the ground pistachios.\\nServe immediately.\\nEnjoy!', 'ingredients': [{'name': '12 ounces ackawi cheese'}, {'name': 'Water, for soaking'}, {'name': '1½ pounds kataifi (shredded phyllo dough)'}, {'name': '5 tablespoons unsalted butter, melted'}, {'name': '12 ounces sweet white cheese'}, {'name': '1½ cups shredded mozzarella cheese'}, {'name': '¾ cup melted ghee'}, {'name': '2 teaspoons powdered orange dye'}, {'name': '2 cups simple syrup'}, {'name': '½ cup ground pistachios, for garnish'}], 'nutrition': {'calories': None, 'protein': None, 'fat': None, 'carbohydrates': None, 'sugar': None, 'fiber': None}}, {'title': 'Tteokbokki (Spicy Korean Rice Cakes)', 'image_url': 'https://img.buzzfeed.com/thumbnailer-prod-us-east-1/video-api/assets/426433.jpg', 'instructions': 'Make the rice cakes (alternatively, if using store-bought, jump to step 5): In a medium, microwave-safe bowl, combine the rice flour, salt, and boiling water and mix until well-combined. Cover the bowl with plastic wrap, leaving an opening for steam to escape.\\nMicrowave the dough for 2 minutes. Knead the dough with a spatula, cover again with the plastic wrap, and microwave for another 2 minutes.\\nGrease a flat surface with sesame oil. Pound and knead the dough with a pestle until the dough is smooth and stretchy, about 5 minutes (if you don’t have a pestle, you can use another heavy object covered in oiled plastic wrap).\\nDivide the dough into 8 equal portions. Coat the dough in sesame oil, then cover with plastic wrap to prevent them from drying out. Working one at a time, roll each portion into a log, then cut into bite-size pieces and shape each piece as desired. The most common shape for tteokbokki are cylinders, or you can make fun shapes like hearts. Coat the rice cakes in more sesame oil and spread them out so they don’t touch and stick together, then repeat with the remaining dough. You should have about 1 pound. If not using immediately, the rice cakes can be stored in a zip-top freezer bag or wrapped tightly in plastic wrap and frozen for up to three months.\\nMake the tteokbokki: If using frozen rice cakes, soak in room temperature water for 20 minutes.\\nAdd the water to a medium skillet and bring to a boil over medium heat. Add the dashi powder and stir until completely dissolved, 1–2 minutes.\\nAdd the gochugaru, sugar, gochujang, fish cakes, and rice cakes to the broth. Stir until the gochujang and gochugaru are well-incorporated, then simmer until the broth has reduced to a thick sauce and the rice cakes are soft and squishy, about 5 minutes. During the last 2 minutes of cooking, add the hard-boiled eggs, mozzarella, if using, and green onions. Cover the pan and cook until the cheese is melted.\\nRemove the pan from the heat and serve warm.\\nEnjoy!', 'ingredients': [{'name': '4 cups sweet rice flour'}, {'name': '1 teaspoon kosher salt'}, {'name': '1½ cups boiling water'}, {'name': 'Sesame oil, for greasing'}, {'name': '3 cups water'}, {'name': '2 teaspoons dashi powder'}, {'name': '1 tablespoon gochugaru (Korean red pepper flakes), or to taste'}, {'name': '1 tablespoon sugar'}, {'name': '3 tablespoons gochujang (Korean red pepper paste)'}, {'name': '½ pound fish cakes'}, {'name': '2 hard-boiled eggs, peeled'}, {'name': 'Shredded mozzarella cheese (optional)'}, {'name': '1 green onion, cut into 2-inch pieces'}], 'nutrition': {'calories': 773, 'protein': 20, 'fat': 17, 'carbohydrates': 129, 'sugar': 6, 'fiber': 16}}, {'title': 'Pineapple Grapefruit Yuzu Mocktail', 'image_url': 'https://img.buzzfeed.com/thumbnailer-prod-us-east-1/video-api/assets/426097.jpg', 'instructions': 'If desired, rub the lime wedge around the rim of a martini or wine glass of choice. Dip the rim in salt to coat.\\nAdd the pineapple, lime juice, yuzu, agave, and grapefruit juice to a cocktail shaker. Use a cocktail muddler to crush the pineapple to release its juices.\\nAdd the ice, then cover the shaker and shake for 10 seconds. Strain into the salt-rimmed glass, then top with sparkling pineapple juice and garnish with a mint leaf.\\nServe immediately.\\nEnjoy!', 'ingredients': [{'name': 'Lime wedge, for coating rim (optional)'}, {'name': 'Sea salt, for coating rim (optional)'}, {'name': '1 slice fresh pineapple, chopped'}, {'name': 'Juice of ½ lime'}, {'name': '½ ounce yuzu hot sauce'}, {'name': '½ ounce agave nectar'}, {'name': 'Juice of ½ grapefruit'}, {'name': '½ cup ice'}, {'name': 'Sparking pineapple or grapefruit juice or sparkling water'}, {'name': 'Fresh mint, for garnish (optional)'}], 'nutrition': {'calories': 177, 'protein': 1, 'fat': 0, 'carbohydrates': 47, 'sugar': 33, 'fiber': 4}}, {'title': 'Air Fryer Buffalo Shrimp', 'image_url': 'https://img.buzzfeed.com/thumbnailer-prod-us-east-1/video-api/assets/426028.jpg', 'instructions': 'Pat the shrimp dry with paper towels, then season with ¼ teaspoon of salt and McCormick® Pure Ground Black Pepper to taste.\\nIn a medium bowl, whisk together the flour, McCormick® Garlic Powder, and the remaining ¾ teaspoon salt until well combined.\\nIn a separate medium bowl, beat the eggs with 1 teaspoon of Frank’s RedHot® Buffalo Wing Sauce.\\nAdd the panko bread crumbs to a third medium bowl.\\nWorking one at a time, coat the shrimp in the seasoned flour, shaking off any excess. Dip in the eggs, then dredge in the panko to cover completely. Transfer to a plate while you repeat with the remaining shrimp.\\nPreheat the air fryer to 375°F (190°C). Grease the basket with nonstick spray.\\nWorking in batches to avoid overcrowding, add the shrimp to the air fryer basket in a single layer and lightly spray the tops with nonstick spray. Cook for 10 minutes, flipping the shrimp halfway, until they are golden brown crisp on each side. Transfer to a baking sheet and keep warm in a 200°F (95°C) oven while you repeat with the remaining shrimp.\\nLightly brush the shrimp with the melted butter, then drizzle with the remaining Frank’s RedHot® Buffalo Sauce (or serve the sauce alongside). Serve immediately.\\nEnjoy!', 'ingredients': [{'name': '1 pound large (18-/20-count) shrimp, peeled, deveined, tails on or off'}, {'name': '1 teaspoon kosher salt, divided'}, {'name': 'McCormick® Pure Ground Black Pepper, to taste'}, {'name': '½ cup all-purpose flour'}, {'name': '1½ teaspoons McCormick® Garlic Powder'}, {'name': '2 large eggs'}, {'name': '½ cup plus 1 teaspoon Frank’s RedHot® Buffalo Wing Sauce, divided'}, {'name': '1 cup panko bread crumbs'}, {'name': 'Nonstick cooking spray, for greasing'}, {'name': '1 tablespoon salted butter, melted'}], 'nutrition': {'calories': 374, 'protein': 31, 'fat': 11, 'carbohydrates': 33, 'sugar': 2, 'fiber': 47}}, {'title': 'Heart-Shaped Kimchi Pancakes', 'image_url': 'https://img.buzzfeed.com/thumbnailer-prod-us-east-1/video-api/assets/425171.jpg', 'instructions': 'In a medium bowl, combine the kimchi, green onion, flour, cornstarch, baking powder, salt, sugar, gochugaru, water, kimchi brine, and rice vinegar and mix well with a spoon.\\nHeat 1 tablespoon of vegetable oil in a nonstick pan over medium high heat until the oil is simmering. Place the heart-shaped mold in the pan, then ladle half of the batter into the mold. Cook until the bottom of the pancake is golden brown and crispy, 3–5 minutes, then remove the mold and flip. Drizzle another tablespoon of vegetable oil around the edges of the pan, then lift the pancake with a spatula to allow the oil to run underneath. Continue cooking until the underside is golden brown and crispy, 3–5 minutes more. Flip the pancake again and cook for 1 minute, then transfer to a plate and repeat with the remaining batter and oil to make a second pancake.\\nServe warm.\\nEnjoy!', 'ingredients': [{'name': '1 cup fermented kimchi, finely chopped'}, {'name': '1 green onion, thinly sliced'}, {'name': '1 cup all-purpose flour or buchim garu (Korean pre-made pancake mix)'}, {'name': '1 tablespoon cornstarch'}, {'name': '½ teaspoon baking powder'}, {'name': '½ teaspoon kosher salt'}, {'name': '¼ teaspoon granulated sugar'}, {'name': '1 tablespoon gochugaru (Korean chile flakes)'}, {'name': '½ cup cold water'}, {'name': '½ cup kimchi brine'}, {'name': '1 tablespoon rice vinegar'}, {'name': '4 tablespoons vegetable oil'}, {'name': '1 7-inch heart-shaped pancake mold'}], 'nutrition': {'calories': None, 'protein': None, 'fat': None, 'carbohydrates': None, 'sugar': None, 'fiber': None}}, {'title': 'Sticky Oatmeal', 'image_url': 'https://img.buzzfeed.com/thumbnailer-prod-us-east-1/video-api/assets/423476.jpg', 'instructions': 'Reserve 2 tablespoons of the coconut milk in a small bowl, then pour the rest of the can into a small saucepan. Add the agave nectar and cook over medium heat until the coconut milk is smooth and any solids have melted, about 2 minutes.\\nAdd the oats and cook, stirring frequently, until the coconut milk has reduced and the oatmeal has a sticky texture, 5–8 minutes. Remove the pot from the heat and let cool for 5 minutes.\\nAdd the sweetened condensed milk to the reserved coconut milk and whisk until smooth.\\nDivide the oatmeal between two bowls, then top with the mango, mint leaves, and milk mixture. Serve immediately.\\nEnjoy!', 'ingredients': [{'name': '1 13-ounce can unsweetened coconut milk'}, {'name': '1 teaspoon agave nectar'}, {'name': '1 cup steel-cut oats'}, {'name': '1 tablespoon sweetened condensed milk'}, {'name': '1 cup cubed mango'}, {'name': '8 fresh mint leaves'}], 'nutrition': {'calories': 849, 'protein': 19, 'fat': 42, 'carbohydrates': 105, 'sugar': 36, 'fiber': 16}}, {'title': 'King Oyster Mushroom Aguachile', 'image_url': 'https://img.buzzfeed.com/thumbnailer-prod-us-east-1/2d621962e80649cb990b8adca3cf2df9/BFV99172_MushroomAguachile_9x16.jpg', 'instructions': 'Make the aguachile: On a mandoline, thinly slice the mushroom stems crosswise into rounds (reserve the mushroom caps for another use). Transfer to a bowl or deep container. Thinly slice the red onion on the mandoline and add to the bowl with the mushrooms.\\nIn a blender, combine the cilantro, cucumber, serrano, jalapeño, garlic, lime juice, vinegar, and salt and blend on high speed until smooth, about 30 seconds.\\nPour the marinade over the mushrooms and onion and stir to coat completely. Let sit for 5–10 minutes.\\nWhile the mushrooms are marinating, prepare the garnishes: using a mandoline, thinly slice the cucumber into rounds. Thinly slice the red onion.\\nTo serve, arrange the sliced cucumber on a serving plate. Spoon the marinated mushrooms and onion on top, along with some of the marinade. Garnish with the thinly sliced red onion, cilantro, and black pepper. Serve immediately.\\nEnjoy!', 'ingredients': [{'name': '4 king oyster mushroom stems'}, {'name': '¼ medium red onion'}, {'name': '½ bunch fresh cilantro'}, {'name': '½ large cucumber, halved lengthwise and seeds removed'}, {'name': '1 serrano pepper, stemmed'}, {'name': '1 jalapeño pepper, stemmed'}, {'name': '2 large garlic cloves'}, {'name': '1 cup fresh lime juice'}, {'name': '1 tablespoon distilled white vinegar'}, {'name': '1 teaspoon kosher salt'}, {'name': '½ large cucumber'}, {'name': '⅛ medium red onion'}, {'name': '1 tablespoon chopped fresh cilantro'}, {'name': 'Freshly ground black pepper, to taste'}], 'nutrition': {'calories': 100, 'protein': 3, 'fat': 0, 'carbohydrates': 25, 'sugar': 8, 'fiber': 28}}, {'title': 'Mini Gingerbread Cheesecake Bites', 'image_url': 'https://s3.amazonaws.com/video-api-prod/assets/2112cfcb12ff437daf48bcd6339b3921/6749817B-B066-46F6-AAA0-468D76B7B490_1_201_a.jpeg', 'instructions': 'Preheat the oven to 350°F (180°C). Grease a 24-cup mini muffin pan with nonstick spray.\\nPortion the gingerbread cookie dough into 1½–2 tablespoons pieces, then add each piece into a mini muffin cup.\\nBake for 12–15 minutes, or until a toothpick inserted into the center of a cookie comes out clean.\\nMeanwhile, make the cheesecake filling: In a medium bowl, use an electric hand mixer on medium speed to whip together the cream cheese, sour cream, vanilla, and powdered sugar until smooth. Transfer the filling to a piping bag and snip an opening in the tip.\\nUse the bottom of a shot glass to press down firmly into the center of each gingerbread cookie to create a cup. Pipe the cheesecake filling into each cookie cup, then top with whipped cream and sprinkles.\\nServe immediately, or chill in the refrigerator until ready to serve, up to 1 day.\\nEnjoy!', 'ingredients': [{'name': 'Nonstick cooking spray, for greasing'}, {'name': '16 ounces pre-made gingerbread cookie dough'}, {'name': '6 ounces softened cream cheese'}, {'name': '⅓ cup sour cream'}, {'name': '1 teaspoon vanilla extract'}, {'name': '1 cup powdered sugar'}, {'name': 'Whipped cream, for garnish'}, {'name': 'Holiday sprinkles, for garnish'}], 'nutrition': {'calories': 137, 'protein': 1, 'fat': 5, 'carbohydrates': 20, 'sugar': 12, 'fiber': 0}}, {'title': 'Chipotle Apricot Cream Cheese Bites', 'image_url': 'https://img.buzzfeed.com/thumbnailer-prod-us-east-1/video-api/assets/416054.jpg', 'instructions': 'Arrange the crackers in a single layer on a serving platter.\\nCut the cream cheese into 14 pieces, then roll each piece into a ball.\\nAdd the pecan pieces to a shallow bowl, then roll the cream cheese balls in the pecans to cover completely, pressing the nuts into the cream cheese. Place each ball on top of a cracker.\\nIn a small bowl, add the apricot jam. Finely chop the chipotle peppers, then add to the jam and stir to incorporate.\\nSpoon the chipotle-apricot jelly on top of each cream cheese ball. If desired, garnish with a few rosemary leaves.\\nServe immediately.\\nEnjoy!', 'ingredients': [{'name': '14 round butter crackers'}, {'name': '8 ounces cream cheese'}, {'name': '½ cup pecan pieces'}, {'name': '½ cup apricot jam'}, {'name': '1–2 chipotle peppers in adobo'}, {'name': 'Fresh rosemary or thyme leaves, for garnish (optional)'}], 'nutrition': {'calories': 80, 'protein': 1, 'fat': 5, 'carbohydrates': 7, 'sugar': 3, 'fiber': 0}}, {'title': 'Egg Salad Grilled Cheese Sandwich Featuring Mccormick®’s Flavor Of The Year', 'image_url': 'https://img.buzzfeed.com/thumbnailer-prod-us-east-1/video-api/assets/415470.jpg', 'instructions': 'Halve the hard-boiled eggs lengthwise, separate the yolks from the whites, and add the yolks to a large bowl. Reserve the whites.\\nAdd the mayonnaise, Dijon mustard, shallot, green onion, dill, capers, and McCormick® Flavor of the Year seasoning to the egg yolks and mix until smooth and evenly combined.\\nChop the egg whites, then add to the egg yolk mixture and fold to incorporate.\\nTo assemble the sandwiches, add one slice each of American and cheddar cheese to one slice of bread. Top with 3–4 tablespoons of the egg salad, spreading evenly. Top with another slice each of American and cheddar cheese and another slice of bread. Repeat with the remaining ingredients to make a total of 5 sandwiches.\\nMelt a knob of butter in a medium pan over medium-low heat. Add the sandwiches, working in batches as needed, and cook for 2–3 minutes, then flip and cook for another 2–3 minutes on the other side, until the bread is golden brown and the cheese is melted. Serve immediately.\\nEnjoy!', 'ingredients': [{'name': '12 hard-boiled eggs'}, {'name': '⅓ cup mayonnaise'}, {'name': '1 teaspoon Dijon mustard'}, {'name': '1 shallot, minced'}, {'name': '1 green onion, sliced, green parts only'}, {'name': '1 sprig of fresh dill, fronds chopped'}, {'name': '2 teaspoons capers'}, {'name': '1 teaspoon McCormick® Flavor of the Year: Vietnamese x Cajun Style'}, {'name': '10 slices whole wheat bread'}, {'name': '10 slices American cheese'}, {'name': '10 slices cheddar cheese'}, {'name': 'Unsalted butter, as needed'}], 'nutrition': {'calories': 478, 'protein': 27, 'fat': 36, 'carbohydrates': 7, 'sugar': 2, 'fiber': 1}}, {'title': 'Cafecito De Olla', 'image_url': 'https://img.buzzfeed.com/thumbnailer-prod-us-east-1/video-api/assets/414301.jpg', 'instructions': 'In a medium pot, bring the water to a simmer over medium-low heat. Add the coffee grounds and piloncillo and stir for 2 minutes to dissolve the piloncillo. Add the cinnamon sticks, star anise pods, and cloves, and stir for 1 minute. Cover the pot and let the coffee simmer for 10 minutes.\\nStrain the coffee and serve immediately.\\nEnjoy!', 'ingredients': [{'name': '6 cups water'}, {'name': '½ cup coffee grounds'}, {'name': '1 piloncillo (120 grams)'}, {'name': '2 whole cinnamon sticks'}, {'name': '2–3 whole star anise pods'}, {'name': '5 whole cloves'}], 'nutrition': {'calories': None, 'protein': None, 'fat': None, 'carbohydrates': None, 'sugar': None, 'fiber': None}}, {'title': 'Black Hummus', 'image_url': 'https://img.buzzfeed.com/thumbnailer-prod-us-east-1/video-api/assets/414312.jpg', 'instructions': 'Make the black sesame tahini: Add the black sesame seeds to a large pan and cook over medium heat, stirring occasionally, for 3–5 minutes, until toasted and aromatic. Watch carefully so the sesame seeds do not burn.\\nAdd the toasted sesame seeds and vegetable oil to a high-powered blender or food processor. Blend on high speed for 2–3 minutes, until completely smooth with no grittiness. Pour the tahini into an airtight container and set aside. It will keep in a cool, dark place at room temperature for up to 1 month. Vigorously shake the container if the oil separates.\\nMake the black hummus: For a smoother texture, peel the outer skins off of the garbanzo beans. Add the garbanzo beans to a food processor with 4–5 tablespoons of the black sesame tahini, the black garlic, garlic, lemon juice, water, and olive oil. Blend on high speed, adding more water or olive oil until your desired consistency is reached. Season with salt to taste.\\nTransfer the hummus to a serving bowl or plate. Garnish with more olive oil, chickpeas, red pepper sauce, and cilantro, or your favorite toppings, and serve with pita or crackers. Leftover hummus will keep in an airtight container in the refrigerator for up to 5 days.\\nEnjoy!', 'ingredients': [{'name': '1½ cups black sesame seeds'}, {'name': '3 tablespoons vegetable oil'}, {'name': '1 (15-ounce) can of garbanzo beans, drained and rinsed, plus more for garnish'}, {'name': '5 black garlic cloves'}, {'name': '2 garlic cloves'}, {'name': '2 tablespoons lemon juice'}, {'name': '2 tablespoons water, plus more as needed'}, {'name': '3 tablespoons olive oil, plus more as needed'}, {'name': 'Kosher salt, to taste'}, {'name': 'Red pepper sauce, for garnish'}, {'name': 'Chopped fresh cilantro, for garnish'}, {'name': 'Pita or crackers, for serving'}], 'nutrition': {'calories': 587, 'protein': 16, 'fat': 42, 'carbohydrates': 39, 'sugar': 5, 'fiber': 14}}, {'title': '2 Simple, Beautiful Appetizers Starring Nuts', 'image_url': 'https://img.buzzfeed.com/thumbnailer-prod-us-east-1/video-api/assets/407908.jpg'}, {'title': 'Brie And Walnut Bites', 'image_url': 'https://s3.amazonaws.com/video-api-prod/assets/178ffbe048c748e9b2a68a0b0c32ef5b/brie.jpg', 'instructions': 'Preheat the oven to 375°F (190°C). Brush a 24-cup mini muffin tin with melted butter.\\nUnroll the phyllo dough on a cutting board. Cut through the stack in a 5 x 3 grid to make 15 2½-inch squares per sheet. Any remaining dough scraps can be refrigerated or frozen for another use.\\nGently press 2–3 sheets of phyllo dough into each muffin cup, then brush with melted butter. Repeat to make 2 more layers of dough, brushing with melted butter between.\\nReserve 24 of the larger Fisher® Walnut Halves and Pieces, then fill each phyllo cup with a cube of Brie, ½ teaspoon of the smaller walnuts, and a few small slices of pear. Place one of the reserved larger Fisher walnut halves on top of each cup. Drizzle each cup with about ¼ teaspoon of honey and sprinkle with thyme.\\nBake the tartlets for 8–10 minutes, or until the phyllo cups are browned and the cheese is bubbly. Remove from the oven and let cool slightly before carefully removing the tartlets from the tin.\\nGarnish each tartlet with 3 pomegranate seeds.\\nServe warm.\\nEnjoy!', 'ingredients': [{'name': '3 tablespoons salted butter, melted, plus more for greasing'}, {'name': '1 8-ounce roll of phyllo dough, thawed'}, {'name': '6 ounces Brie cheese, rind removed'}, {'name': '1 cup Fisher® Walnut Halves and Pieces'}, {'name': '1 Asian pear, cored and very thinly sliced'}, {'name': '2 tablespoons honey'}, {'name': '2 teaspoons fresh thyme leaves'}, {'name': '¼ cup pomegranate seeds'}], 'nutrition': {'calories': 88, 'protein': 2, 'fat': 6, 'carbohydrates': 5, 'sugar': 3, 'fiber': 17}}, {'title': 'Creamy Pecan-Stuffed Mushrooms', 'image_url': 'https://s3.amazonaws.com/video-api-prod/assets/8e2264f6e8c949ed8e1c23bd7dceac70/mushroom.jpg', 'instructions': 'Preheat the oven to 375°F (190°C). Line a baking sheet with parchment paper.\\nRemove stems from the mushrooms and reserve for the filling. Arrange the mushroom caps, stem-side up, on the prepared baking sheet. Brush with the olive oil and season with salt to taste.\\nMake the filling: Finely chop the mushroom stems, then add to a medium skillet with the butter and garlic. Cook over medium heat for about 5 minutes, or until the mushrooms and garlic have softened and browned slightly. Remove the pan from the heat.\\nAdd 2 tablespoons of Fisher® Chopped Pecans, the onion powder, ¼ teaspoon salt, the pepper, and soy sauce to the skillet and stir to combine.\\nWhile the pan is still warm, but not hot, add the cream cheese, Parmesan, and thyme and stir until the mixture is smooth.\\nCarefully fill each mushroom cap with the filling. Sprinkle the remaining 2 tablespoons of Fisher® Chopped Pecans and the panko bread crumbs on top of the mushrooms.\\nBake for 15 minutes, or until the mushrooms are tender and the topping has browned slightly.\\nServe warm.\\nEnjoy!', 'ingredients': [{'name': '16 ounces cremini mushrooms'}, {'name': '2 teaspoons olive oil'}, {'name': '¼ teaspoon kosher salt, plus more to taste'}, {'name': '1 tablespoon unsalted butter'}, {'name': '1 small clove of garlic, minced'}, {'name': '4 tablespoons Fisher® Chopped Pecans, divided'}, {'name': '¼ teaspoon onion powder'}, {'name': '¼ teaspoon freshly ground black pepper'}, {'name': '1 teaspoon soy sauce'}, {'name': '4 ounces cream cheese'}, {'name': '¼ cup finely grated Parmesan cheese'}, {'name': '¼ teaspoon fresh thyme leaves, plus more for garnish'}, {'name': '2 tablespoons panko bread crumbs'}], 'nutrition': {'calories': 224, 'protein': 9, 'fat': 18, 'carbohydrates': 9, 'sugar': 3, 'fiber': 5}}]\n"
     ]
    }
   ],
   "source": [
    "print(transformed_data_tastyapi)"
   ]
  },
  {
   "cell_type": "markdown",
   "metadata": {},
   "source": [
    "## Transform TheMealDB"
   ]
  },
  {
   "cell_type": "code",
   "execution_count": 103,
   "metadata": {},
   "outputs": [],
   "source": [
    "def transform_themealdb_data(raw_data):\n",
    "    transformed_data = []\n",
    "\n",
    "    for item in raw_data:\n",
    "        transformed_recipe = {\n",
    "            \"title\": item[\"strMeal\"],\n",
    "            \"image_url\": item[\"strMealThumb\"],\n",
    "            \"instructions\": item[\"strInstructions\"].replace(\"\\r\\n\", \"\\n\"),\n",
    "            \"ingredients\": [],\n",
    "        }\n",
    "\n",
    "        for i in range(1, 21):\n",
    "            ingredient_key = f\"strIngredient{i}\"\n",
    "            measure_key = f\"strMeasure{i}\"\n",
    "\n",
    "            if item[ingredient_key] and item[ingredient_key].strip():\n",
    "                transformed_recipe[\"ingredients\"].append({\n",
    "                    \"name\": item[ingredient_key].strip(),\n",
    "                    \"quantity\": item[measure_key].strip() if item[measure_key] and item[measure_key].strip() else None\n",
    "                })\n",
    "\n",
    "        transformed_data.append(transformed_recipe)\n",
    "\n",
    "    return transformed_data"
   ]
  },
  {
   "cell_type": "code",
   "execution_count": 104,
   "metadata": {},
   "outputs": [],
   "source": [
    "with open(\"../output/themealdb-output.json\", \"r\") as f:\n",
    "    themealdb = json.load(f)\n",
    "\n",
    "transformed_data_themealdb = transform_themealdb_data(themealdb)"
   ]
  },
  {
   "cell_type": "markdown",
   "metadata": {},
   "source": [
    "# Insert data"
   ]
  },
  {
   "cell_type": "code",
   "execution_count": 80,
   "metadata": {},
   "outputs": [],
   "source": [
    "import mysql.connector\n",
    "\n",
    "\n",
    "def connect_to_mysql():\n",
    "    connection = mysql.connector.connect(\n",
    "        host=\"104.196.180.64\",\n",
    "        user=\"root\",\n",
    "        password=\"Password-1\",\n",
    "        database=\"main\"\n",
    "    )\n",
    "    return connection"
   ]
  },
  {
   "cell_type": "code",
   "execution_count": 81,
   "metadata": {},
   "outputs": [],
   "source": [
    "import pymysql\n",
    "\n",
    "def create_mysql_connection():\n",
    "    connection = pymysql.connect(\n",
    "        host=\"104.196.180.64\",\n",
    "        user=\"root\",\n",
    "        password=\"Password-1\",\n",
    "        database=\"main\"\n",
    "    )\n",
    "    return connection"
   ]
  },
  {
   "cell_type": "markdown",
   "metadata": {},
   "source": [
    "## Simply Recipes"
   ]
  },
  {
   "cell_type": "code",
   "execution_count": 82,
   "metadata": {},
   "outputs": [],
   "source": [
    "def insert_simplyrecipes_data(recipe_data):\n",
    "    for recipe in recipe_data:\n",
    "        # Insert recipe and get recipe_id\n",
    "        recipe_id = insert_recipe(recipe)\n",
    "\n",
    "        # Insert instructions\n",
    "        insert_instructions(recipe[\"instructions\"], recipe_id)\n",
    "\n",
    "        # Insert ingredients\n",
    "        ingredient_ids = insert_ingredients(recipe[\"ingredients\"])\n",
    "\n",
    "        # Insert recipe_ingredient\n",
    "        insert_recipe_ingredients(recipe_id, ingredient_ids, recipe[\"ingredients\"])\n"
   ]
  },
  {
   "cell_type": "code",
   "execution_count": 83,
   "metadata": {},
   "outputs": [],
   "source": [
    "def insert_recipe(recipe_data):\n",
    "    connection = create_mysql_connection()\n",
    "    recipe_id = None\n",
    "\n",
    "    try:\n",
    "        with connection.cursor() as cursor:\n",
    "            sql_query = \"\"\"\n",
    "            INSERT INTO recipe (title, instructions)\n",
    "            VALUES (%s, %s);\n",
    "            \"\"\"\n",
    "\n",
    "            cursor.execute(sql_query, (recipe_data.get(\"title\", None), recipe_data.get(\"instructions\", None)))\n",
    "            recipe_id = cursor.lastrowid\n",
    "        connection.commit()\n",
    "    finally:\n",
    "        connection.close()\n",
    "\n",
    "    return recipe_id\n",
    "\n",
    "\n",
    "def insert_ingredients(ingredients):\n",
    "    connection = create_mysql_connection()\n",
    "    ingredient_ids = []\n",
    "\n",
    "    try:\n",
    "        with connection.cursor() as cursor:\n",
    "            for ingredient in ingredients:\n",
    "                sql_query = \"\"\"\n",
    "                INSERT INTO ingredient (name)\n",
    "                VALUES (%s);\n",
    "                \"\"\"\n",
    "\n",
    "                cursor.execute(sql_query, (ingredient.get(\"name\", None),))\n",
    "                ingredient_ids.append(cursor.lastrowid)\n",
    "        connection.commit()\n",
    "    finally:\n",
    "        connection.close()\n",
    "\n",
    "    return ingredient_ids\n",
    "\n",
    "\n",
    "def insert_instructions(instructions, recipe_id):\n",
    "    connection = create_mysql_connection()\n",
    "\n",
    "    try:\n",
    "        with connection.cursor() as cursor:\n",
    "            for position, instruction in enumerate(instructions.split('\\n')):\n",
    "                sql_query = \"\"\"\n",
    "                INSERT INTO instruction (recipe_id, position, text)\n",
    "                VALUES (%s, %s, %s);\n",
    "                \"\"\"\n",
    "\n",
    "                cursor.execute(sql_query, (recipe_id, position, instruction.strip() if instruction else None))\n",
    "        connection.commit()\n",
    "    finally:\n",
    "        connection.close()\n",
    "\n",
    "\n",
    "def insert_recipe_ingredients(recipe_id, ingredient_ids, ingredients):\n",
    "    connection = create_mysql_connection()\n",
    "\n",
    "    try:\n",
    "        with connection.cursor() as cursor:\n",
    "            for ingredient_id, ingredient in zip(ingredient_ids, ingredients):\n",
    "                sql_query = \"\"\"\n",
    "                INSERT INTO recipe_ingredient (recipe_id, ingredient_id, quantity, unit)\n",
    "                VALUES (%s, %s, %s, %s);\n",
    "                \"\"\"\n",
    "\n",
    "                cursor.execute(sql_query, (recipe_id, ingredient_id, ingredient.get(\"quantity\", None), ingredient.get(\"unit\", None)))\n",
    "        connection.commit()\n",
    "    finally:\n",
    "        connection.close()\n",
    "        \n",
    "def insert_nutrition(nutrition_data, recipe_id):\n",
    "    connection = create_mysql_connection()\n",
    "\n",
    "    try:\n",
    "        with connection.cursor() as cursor:\n",
    "            sql_query = \"\"\"\n",
    "            INSERT INTO nutrition (\n",
    "                recipe_id, calories, protein, fat, carbohydrates, sugar, fiber, cholesterol, sodium\n",
    "            ) VALUES (%s, %s, %s, %s, %s, %s, %s, %s, %s);\n",
    "            \"\"\"\n",
    "\n",
    "            cursor.execute(sql_query, (\n",
    "                recipe_id,\n",
    "                nutrition_data.get(\"calories\", None),\n",
    "                nutrition_data.get(\"protein\", None),\n",
    "                nutrition_data.get(\"fat\", None),\n",
    "                nutrition_data.get(\"carbohydrates\", None),\n",
    "                nutrition_data.get(\"sugar\", None),\n",
    "                nutrition_data.get(\"fiber\", None),\n",
    "                nutrition_data.get(\"cholesterol\", None),\n",
    "                nutrition_data.get(\"sodium\", None)\n",
    "            ))\n",
    "        connection.commit()\n",
    "    finally:\n",
    "        connection.close()"
   ]
  },
  {
   "cell_type": "code",
   "execution_count": 84,
   "metadata": {},
   "outputs": [],
   "source": [
    "insert_simplyrecipes_data(transformed_data_simplyrecipes)"
   ]
  },
  {
   "cell_type": "markdown",
   "metadata": {},
   "source": [
    "## Edamam"
   ]
  },
  {
   "cell_type": "code",
   "execution_count": 85,
   "metadata": {},
   "outputs": [],
   "source": [
    "def insert_edamam_data(recipe_data):\n",
    "    for recipe in recipe_data:\n",
    "        # Insert recipe and get recipe_id\n",
    "        recipe_id = insert_recipe(recipe)\n",
    "\n",
    "        # Insert instructions\n",
    "        if \"instructions\" in recipe:\n",
    "            insert_instructions(recipe[\"instructions\"], recipe_id)\n",
    "\n",
    "        # Insert ingredients\n",
    "        ingredient_ids = insert_ingredients(recipe[\"ingredients\"])\n",
    "\n",
    "        # Insert recipe_ingredient\n",
    "        insert_recipe_ingredients(recipe_id, ingredient_ids, recipe[\"ingredients\"])\n",
    "\n",
    "        # Insert nutrition data\n",
    "        if \"nutrition\" in recipe:\n",
    "            insert_nutrition(recipe[\"nutrition\"], recipe_id)"
   ]
  },
  {
   "cell_type": "code",
   "execution_count": 86,
   "metadata": {},
   "outputs": [],
   "source": [
    "insert_edamam_data(transformed_data_edamam)"
   ]
  },
  {
   "cell_type": "markdown",
   "metadata": {},
   "source": [
    "## TastyAPI"
   ]
  },
  {
   "cell_type": "code",
   "execution_count": 98,
   "metadata": {},
   "outputs": [],
   "source": [
    "def insert_tastyapi_data(recipe_data):\n",
    "    for recipe in recipe_data:\n",
    "        # Insert recipe and get recipe_id\n",
    "        recipe_id = insert_recipe(recipe)\n",
    "\n",
    "        # Insert instructions\n",
    "        if \"instructions\" in recipe:\n",
    "            insert_instructions(recipe[\"instructions\"], recipe_id)\n",
    "\n",
    "        # Insert ingredients\n",
    "        if \"ingredients\" in recipe:\n",
    "            ingredient_ids = insert_ingredients(recipe[\"ingredients\"])\n",
    "\n",
    "            # Insert recipe_ingredient\n",
    "            insert_recipe_ingredients(recipe_id, ingredient_ids, recipe[\"ingredients\"])\n",
    "\n",
    "        # Insert nutrition data\n",
    "        if \"nutrition\" in recipe:\n",
    "            insert_nutrition(recipe[\"nutrition\"], recipe_id)"
   ]
  },
  {
   "cell_type": "code",
   "execution_count": 99,
   "metadata": {},
   "outputs": [],
   "source": [
    "insert_tastyapi_data(transformed_data_tastyapi)"
   ]
  },
  {
   "cell_type": "markdown",
   "metadata": {},
   "source": [
    "## TheMealDB"
   ]
  },
  {
   "cell_type": "code",
   "execution_count": 105,
   "metadata": {},
   "outputs": [],
   "source": [
    "def insert_themealdb_data(recipe_data):\n",
    "    for recipe in recipe_data:\n",
    "        # Insert recipe and get recipe_id\n",
    "        recipe_id = insert_recipe(recipe)\n",
    "\n",
    "        # Insert instructions\n",
    "        if \"instructions\" in recipe:\n",
    "            insert_instructions(recipe[\"instructions\"], recipe_id)\n",
    "\n",
    "        # Insert ingredients\n",
    "        ingredient_ids = insert_ingredients(recipe[\"ingredients\"])\n",
    "\n",
    "        # Insert recipe_ingredient\n",
    "        insert_recipe_ingredients(recipe_id, ingredient_ids, recipe[\"ingredients\"])"
   ]
  },
  {
   "cell_type": "code",
   "execution_count": 106,
   "metadata": {},
   "outputs": [],
   "source": [
    "insert_themealdb_data(transformed_data_themealdb)"
   ]
  },
  {
   "cell_type": "markdown",
   "metadata": {},
   "source": [
    "# Verify"
   ]
  },
  {
   "cell_type": "code",
   "execution_count": 107,
   "metadata": {},
   "outputs": [],
   "source": [
    "def fetch_data_from_table(table_name):\n",
    "    connection = create_mysql_connection()\n",
    "    data = []\n",
    "\n",
    "    try:\n",
    "        with connection.cursor() as cursor:\n",
    "            sql_query = f\"SELECT * FROM {table_name};\"\n",
    "            cursor.execute(sql_query)\n",
    "            data = cursor.fetchall()\n",
    "    finally:\n",
    "        connection.close()\n",
    "\n",
    "    return data\n"
   ]
  },
  {
   "cell_type": "code",
   "execution_count": 108,
   "metadata": {},
   "outputs": [],
   "source": [
    "recipe_data = fetch_data_from_table(\"recipe\")\n",
    "ingredient_data = fetch_data_from_table(\"ingredient\")\n",
    "instruction_data = fetch_data_from_table(\"instruction\")\n",
    "nutrition_data = fetch_data_from_table(\"nutrition\")\n",
    "recipe_ingredient_data = fetch_data_from_table(\"recipe_ingredient\")"
   ]
  }
 ],
 "metadata": {
  "kernelspec": {
   "display_name": "Python [conda env:Python3] *",
   "language": "python",
   "name": "conda-env-Python3-py"
  },
  "language_info": {
   "codemirror_mode": {
    "name": "ipython",
    "version": 3
   },
   "file_extension": ".py",
   "mimetype": "text/x-python",
   "name": "python",
   "nbconvert_exporter": "python",
   "pygments_lexer": "ipython3",
   "version": "3.9.15"
  }
 },
 "nbformat": 4,
 "nbformat_minor": 2
}
