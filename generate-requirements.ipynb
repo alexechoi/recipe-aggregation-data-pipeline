{
 "cells": [
  {
   "cell_type": "markdown",
   "metadata": {},
   "source": [
    "# Generate Requirements file\n",
    "This document aims to generate a requirements.txt file that we can use later on. It can be rerun so we can constantly keep this up to date.\n",
    "\n",
    "We install requirements.txt using ```pip install -r requirements.txt```"
   ]
  },
  {
   "cell_type": "code",
   "execution_count": 1,
   "metadata": {},
   "outputs": [],
   "source": [
    "import os\n",
    "import nbformat"
   ]
  },
  {
   "cell_type": "code",
   "execution_count": 2,
   "metadata": {},
   "outputs": [],
   "source": [
    "def scan_files(directory, extension):\n",
    "    # Look for files\n",
    "    for root, _, files in os.walk(directory):\n",
    "        for file in files:\n",
    "            if file.endswith(extension):\n",
    "                yield os.path.join(root, file)"
   ]
  },
  {
   "cell_type": "code",
   "execution_count": 3,
   "metadata": {},
   "outputs": [],
   "source": [
    "def parse_requirements_file(filename):\n",
    "    # parse files\n",
    "    with open(filename) as f:\n",
    "        return set(line.strip() for line in f)"
   ]
  },
  {
   "cell_type": "code",
   "execution_count": 4,
   "metadata": {},
   "outputs": [],
   "source": [
    "def parse_ipynb_file(filename):\n",
    "    # handle notebooks\n",
    "    with open(filename) as f:\n",
    "        nb = nbformat.read(f, nbformat.NO_CONVERT)\n",
    "\n",
    "    requirements = set()\n",
    "    for cell in nb.cells:\n",
    "        if cell.cell_type == \"code\":\n",
    "            for line in cell.source.splitlines():\n",
    "                if line.startswith(\"!pip install\"):\n",
    "                    # Extract the package name from the line and add it to the set of requirements\n",
    "                    package = line.split(\"!pip install \")[1]\n",
    "                    requirements.add(package)\n",
    "\n",
    "    return requirements"
   ]
  },
  {
   "cell_type": "code",
   "execution_count": 5,
   "metadata": {},
   "outputs": [],
   "source": [
    "def main():\n",
    "    # generate the file\n",
    "    requirements = set()\n",
    "\n",
    "    # Scan for all .py and .ipynb files in the current directory and subdirectories\n",
    "    for file in scan_files(\".\", (\".py\", \".ipynb\")):\n",
    "        if file.endswith(\".ipynb\"):\n",
    "            # If the file is a Jupyter notebook, parse it for !pip installs\n",
    "            requirements |= parse_ipynb_file(file)\n",
    "        else:\n",
    "            with open(file) as f:\n",
    "                contents = f.read()\n",
    "\n",
    "            # Look for pip installs in the file's contents\n",
    "            for line in contents.splitlines():\n",
    "                if line.startswith(\"!pip install\"):\n",
    "                    # Extract the package name from the line and add it to the set of requirements\n",
    "                    package = line.split(\"!pip install \")[1]\n",
    "                    requirements.add(package)\n",
    "\n",
    "    # Parse any existing requirements.txt file to add to the set of requirements\n",
    "    if os.path.exists(\"requirements.txt\"):\n",
    "        requirements |= parse_requirements_file(\"requirements.txt\")\n",
    "\n",
    "    # Write the final set of requirements to a new requirements.txt file\n",
    "    with open(\"requirements.txt\", \"w\") as f:\n",
    "        f.write(\"\\n\".join(sorted(requirements)))"
   ]
  },
  {
   "cell_type": "code",
   "execution_count": 6,
   "metadata": {},
   "outputs": [],
   "source": [
    "if __name__ == \"__main__\":\n",
    "    main()"
   ]
  }
 ],
 "metadata": {
  "kernelspec": {
   "display_name": "Python [conda env:Python3] *",
   "language": "python",
   "name": "conda-env-Python3-py"
  },
  "language_info": {
   "codemirror_mode": {
    "name": "ipython",
    "version": 3
   },
   "file_extension": ".py",
   "mimetype": "text/x-python",
   "name": "python",
   "nbconvert_exporter": "python",
   "pygments_lexer": "ipython3",
   "version": "3.9.15"
  }
 },
 "nbformat": 4,
 "nbformat_minor": 2
}
