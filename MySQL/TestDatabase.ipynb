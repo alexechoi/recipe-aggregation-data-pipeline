{
 "cells": [
  {
   "cell_type": "code",
   "execution_count": 1,
   "metadata": {},
   "outputs": [
    {
     "name": "stdout",
     "output_type": "stream",
     "text": [
      "/bin/bash: /opt/anaconda/envs/Python3/lib/libtinfo.so.6: no version information available (required by /bin/bash)\n",
      "\u001b[1m\n",
      "         .:::.     .::.       \n",
      "        ....yy:    .yy.       \n",
      "        :.  .yy.    y.        \n",
      "             :y:   .:         \n",
      "             .yy  .:          \n",
      "              yy..:           \n",
      "              :y:.            \n",
      "              .y.             \n",
      "             .:.              \n",
      "        ....:.                \n",
      "        :::.                  \n",
      "\u001b[0;33m\n",
      "• Project files and data should be stored in /project. This is shared among everyone\n",
      "  in the project.\n",
      "• Personal files and configuration should be stored in /home/faculty.\n",
      "• Files outside /project and /home/faculty will be lost when this server is terminated.\n",
      "• Create custom environments to setup your servers reproducibly.\n",
      "\u001b[0m\n",
      "bash: /opt/anaconda/envs/Python3/lib/libtinfo.so.6: no version information available (required by bash)\n",
      "Requirement already satisfied: mysql-connector-python in /opt/anaconda/envs/Python3/lib/python3.9/site-packages (8.0.32)\n",
      "Requirement already satisfied: protobuf<=3.20.3,>=3.11.0 in /opt/anaconda/envs/Python3/lib/python3.9/site-packages (from mysql-connector-python) (3.19.6)\n"
     ]
    }
   ],
   "source": [
    "!pip install mysql-connector-python"
   ]
  },
  {
   "cell_type": "code",
   "execution_count": 3,
   "metadata": {},
   "outputs": [
    {
     "name": "stdout",
     "output_type": "stream",
     "text": [
      "Connecting to the database...\n",
      "Connected to the database.\n",
      "Tables in the database:\n",
      "ingredient\n",
      "instruction\n",
      "nutrition\n",
      "recipe\n",
      "recipe_ingredient\n",
      "Database connection closed.\n"
     ]
    }
   ],
   "source": [
    "import mysql.connector\n",
    "from mysql.connector import Error\n",
    "\n",
    "# Database credentials\n",
    "db_user = ''\n",
    "db_password = ''\n",
    "db_host = ''\n",
    "db_name = ''\n",
    "\n",
    "try:\n",
    "    # Connect to the database\n",
    "    print(\"Connecting to the database...\")\n",
    "    cnx = mysql.connector.connect(user=db_user, password=db_password, host=db_host, database=db_name)\n",
    "\n",
    "    if cnx.is_connected():\n",
    "        print(\"Connected to the database.\")\n",
    "        # Create a cursor\n",
    "        cursor = cnx.cursor()\n",
    "\n",
    "        # Execute a query to list the tables\n",
    "        cursor.execute(\"SHOW TABLES\")\n",
    "\n",
    "        # Fetch and print the table names\n",
    "        print(\"Tables in the database:\")\n",
    "        for (table_name,) in cursor:\n",
    "            print(table_name)\n",
    "\n",
    "        # Close the cursor and connection\n",
    "        cursor.close()\n",
    "\n",
    "    else:\n",
    "        print(\"Failed to connect to the database.\")\n",
    "\n",
    "except Error as e:\n",
    "    print(f\"The error '{e}' occurred while connecting to the database.\")\n",
    "\n",
    "finally:\n",
    "    if cnx.is_connected():\n",
    "        cnx.close()\n",
    "        print(\"Database connection closed.\")\n"
   ]
  }
 ],
 "metadata": {
  "kernelspec": {
   "display_name": "Python [conda env:Python3] *",
   "language": "python",
   "name": "conda-env-Python3-py"
  },
  "language_info": {
   "codemirror_mode": {
    "name": "ipython",
    "version": 3
   },
   "file_extension": ".py",
   "mimetype": "text/x-python",
   "name": "python",
   "nbconvert_exporter": "python",
   "pygments_lexer": "ipython3",
   "version": "3.9.15"
  }
 },
 "nbformat": 4,
 "nbformat_minor": 2
}
