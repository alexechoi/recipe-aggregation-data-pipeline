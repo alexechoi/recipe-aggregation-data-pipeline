{
 "cells": [
  {
   "cell_type": "code",
   "execution_count": 10,
   "metadata": {},
   "outputs": [],
   "source": [
    "import requests\n",
    "import json\n",
    "import os\n",
    "\n",
    "API_KEY = \"1\"\n",
    "BASE_URL = \"https://www.themealdb.com/api/json/v1/{}/\".format(API_KEY)\n",
    "\n",
    "def get_random_recipe():\n",
    "    random_url = \"{}random.php\".format(BASE_URL)\n",
    "    response = requests.get(random_url)\n",
    "\n",
    "    if response.status_code == 200:\n",
    "        return response.json()\n",
    "    else:\n",
    "        print(\"Error: Unable to fetch recipes. Status code:\", response.status_code)\n",
    "        return None\n",
    "\n",
    "def save_to_json_file(data, file_path):\n",
    "    file_exists = os.path.isfile(file_path)\n",
    "    \n",
    "    meals = data.get(\"meals\", [])\n",
    "\n",
    "    with open(file_path, \"a\" if file_exists else \"w\") as f:\n",
    "        if file_exists:\n",
    "            f.write(\",\\n\")\n",
    "        json.dump(meals, f, indent=2)\n",
    "\n",
    "def get_mealdb():\n",
    "    if __name__ == \"__main__\":\n",
    "        output_dir = \"../output\"\n",
    "        os.makedirs(output_dir, exist_ok=True)\n",
    "\n",
    "        output_file = os.path.join(output_dir, \"themealdb-output.json\")\n",
    "\n",
    "        random_recipe = get_random_recipe()\n",
    "\n",
    "        if random_recipe:\n",
    "            save_to_json_file(random_recipe, output_file)\n",
    "            print(\"Random recipe saved to:\", output_file)\n",
    "        else:\n",
    "            print(\"No recipe found.\")\n"
   ]
  },
  {
   "cell_type": "code",
   "execution_count": 11,
   "metadata": {},
   "outputs": [
    {
     "name": "stdout",
     "output_type": "stream",
     "text": [
      "Error: Unable to fetch recipes. Status code: 500\n",
      "No recipe found.\n"
     ]
    }
   ],
   "source": [
    "get_mealdb()"
   ]
  }
 ],
 "metadata": {
  "kernelspec": {
   "display_name": "Python [conda env:Python3] *",
   "language": "python",
   "name": "conda-env-Python3-py"
  },
  "language_info": {
   "codemirror_mode": {
    "name": "ipython",
    "version": 3
   },
   "file_extension": ".py",
   "mimetype": "text/x-python",
   "name": "python",
   "nbconvert_exporter": "python",
   "pygments_lexer": "ipython3",
   "version": "3.9.15"
  }
 },
 "nbformat": 4,
 "nbformat_minor": 2
}
